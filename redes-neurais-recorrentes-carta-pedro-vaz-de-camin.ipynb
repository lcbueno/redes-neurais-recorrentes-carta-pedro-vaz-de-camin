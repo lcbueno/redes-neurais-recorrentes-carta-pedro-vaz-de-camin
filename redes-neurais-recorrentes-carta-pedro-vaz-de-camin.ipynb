{
 "cells": [
  {
   "cell_type": "code",
   "execution_count": 1,
   "id": "8bcb2181",
   "metadata": {
    "execution": {
     "iopub.execute_input": "2021-12-08T22:52:10.420722Z",
     "iopub.status.busy": "2021-12-08T22:52:10.420025Z",
     "iopub.status.idle": "2021-12-08T22:52:15.247761Z",
     "shell.execute_reply": "2021-12-08T22:52:15.247057Z",
     "shell.execute_reply.started": "2021-12-08T22:43:48.719184Z"
    },
    "papermill": {
     "duration": 4.897025,
     "end_time": "2021-12-08T22:52:15.247922",
     "exception": false,
     "start_time": "2021-12-08T22:52:10.350897",
     "status": "completed"
    },
    "tags": []
   },
   "outputs": [],
   "source": [
    "import tensorflow as tf\n",
    "import numpy as np\n",
    "import os\n",
    "import time\n",
    "import pandas as pd"
   ]
  },
  {
   "cell_type": "markdown",
   "id": "e8ceb902",
   "metadata": {
    "papermill": {
     "duration": 0.058879,
     "end_time": "2021-12-08T22:52:15.366809",
     "exception": false,
     "start_time": "2021-12-08T22:52:15.307930",
     "status": "completed"
    },
    "tags": []
   },
   "source": [
    "# Database loading and exploration"
   ]
  },
  {
   "cell_type": "code",
   "execution_count": 2,
   "id": "05e9a217",
   "metadata": {
    "execution": {
     "iopub.execute_input": "2021-12-08T22:52:15.492014Z",
     "iopub.status.busy": "2021-12-08T22:52:15.491132Z",
     "iopub.status.idle": "2021-12-08T22:52:15.494671Z",
     "shell.execute_reply": "2021-12-08T22:52:15.495136Z",
     "shell.execute_reply.started": "2021-12-08T22:43:48.800618Z"
    },
    "papermill": {
     "duration": 0.066721,
     "end_time": "2021-12-08T22:52:15.495300",
     "exception": false,
     "start_time": "2021-12-08T22:52:15.428579",
     "status": "completed"
    },
    "tags": []
   },
   "outputs": [],
   "source": [
    "data = '../input/resumo-carta-pedro-vaz-de-caminha/Carta_a_El_Rei_D._Manuel_(ortografia_atualizada).txt'"
   ]
  },
  {
   "cell_type": "code",
   "execution_count": 3,
   "id": "c89037e0",
   "metadata": {
    "execution": {
     "iopub.execute_input": "2021-12-08T22:52:15.617538Z",
     "iopub.status.busy": "2021-12-08T22:52:15.616683Z",
     "iopub.status.idle": "2021-12-08T22:52:15.630047Z",
     "shell.execute_reply": "2021-12-08T22:52:15.630574Z",
     "shell.execute_reply.started": "2021-12-08T22:43:48.826184Z"
    },
    "papermill": {
     "duration": 0.076029,
     "end_time": "2021-12-08T22:52:15.630757",
     "exception": false,
     "start_time": "2021-12-08T22:52:15.554728",
     "status": "completed"
    },
    "tags": []
   },
   "outputs": [],
   "source": [
    "dataset_text = open(data, 'rb').read().decode(encoding = 'utf-8')"
   ]
  },
  {
   "cell_type": "code",
   "execution_count": 4,
   "id": "799a3717",
   "metadata": {
    "execution": {
     "iopub.execute_input": "2021-12-08T22:52:15.752692Z",
     "iopub.status.busy": "2021-12-08T22:52:15.751837Z",
     "iopub.status.idle": "2021-12-08T22:52:15.759373Z",
     "shell.execute_reply": "2021-12-08T22:52:15.760033Z",
     "shell.execute_reply.started": "2021-12-08T22:43:48.840190Z"
    },
    "papermill": {
     "duration": 0.070169,
     "end_time": "2021-12-08T22:52:15.760225",
     "exception": false,
     "start_time": "2021-12-08T22:52:15.690056",
     "status": "completed"
    },
    "tags": []
   },
   "outputs": [
    {
     "name": "stdout",
     "output_type": "stream",
     "text": [
      "Carta de Pero Vaz de Caminha\n",
      "\n",
      "\n",
      "\t\t\t\t\tPero Vaz de Caminha\n",
      "\n",
      "\n",
      "\n",
      "\n",
      "\n",
      "Conteúdo exportado da wiki Wikisource em 8 de dezembro de 2021\n",
      "\n",
      "\n",
      "\n",
      "\n",
      "\n",
      "Senhor,\n",
      "\n",
      "posto que o Capitão-mor desta Vossa frota, e assim os outros capitães escrevam a Vossa Alteza a nova do achamento desta Vossa terra nova, que se agora nesta navegação achou, não deixarei de também dar disso minha conta a Vossa Alteza, assim como eu melhor puder, ainda que — para o bem contar e falar — o saiba pior que todos fazer!\n",
      "\n",
      "Todavia tome Vossa Alteza minha ignorância por boa vontade, a qual bem certo creia que, para aformosentar nem afear, aqui não há de pôr mais do que aquilo que vi e me pareceu.\n",
      "\n",
      "Da marinhagem e das singraduras do caminho não darei aqui conta a Vossa Alteza — porque o não saberei fazer — e os pilotos devem ter este cuidado.\n",
      "\n",
      "E portanto, Senhor, do que hei de falar começo:\n",
      "\n",
      "E digo quê:\n",
      "\n",
      "A partida de Belém foi, como Vossa Alteza sabe, segunda-feira 9 de Março. E sábado, 14 do dito mês, entre as 8 e 9 horas, nos achamos entre as Canárias, mais perto da Grande Canária. E ali andamos todo aquele dia em calma, à vista delas, obra de três a quatro léguas. E domingo, 22 do dito mês, às dez horas mais ou menos, houvemos vista das ilhas de Cabo Verde, a saber da ilha de São Nicolau, segundo o dito de Pero Escolar, piloto.\n",
      "\n",
      "Na noite seguinte à segunda-feira amanheceu, se perdeu da frota Vasco de Ataíde com a sua nau, sem haver tempo forte ou contrário para poder ser!\n",
      "\n",
      "Fez o capitão suas diligências para o achar, em umas e outras partes. Mas... não apareceu mais!\n",
      "\n",
      "E assim seguimos nosso caminho, por este mar de longo, até que terça-feira das Oitavas de Páscoa, que foram 21 dias de abril, topamos alguns sinais de terra, estando da dita Ilha — segundo os pilotos diziam, obra de 660 ou 670 léguas — os quais eram muita quantidade de ervas compridas, a que os mareantes chamam botelho, e assim mesmo outras a que dão o nome de rabo-de-asno. E quarta-feira seguinte, pela manhã, topamos aves a que chamam furabuchos.\n",
      "\n",
      "Neste mesmo dia, a horas de véspera, houvemos vista de terra! A saber, primeiramente de um grande monte, muito alto e redondo; e de outras serras mais baixas ao sul dele; e de terra chã, com grandes arvoredos; ao qual monte alto o capitão pôs o nome de O Monte Pascoal e à terra A Terra de Vera Cruz! Mandou lançar o prumo. Acharam vinte e cinco braças. E ao sol-posto umas seis léguas da terra, lançamos ancoras, em dezenove braças — ancoragem limpa. Ali ficamo-nos toda aquela noite. E quinta-feira, pela manhã, fizemos vela e seguimos em direitura à terra, indo os navios pequenos diante — por dezessete, dezesseis, quinze, catorze, doze, nove braças — até meia légua da terra, onde todos lançamos ancoras, em frente da boca de um rio. E chegaríamos a esta ancoragem às dez horas, pouco mais ou menos.\n",
      "\n",
      "E dali avistamos homens que andavam pela praia, uns sete ou oito, segundo disseram os navios pequenos que chegaram primeiro.\n",
      "\n",
      "Então lançamos fora os batéis e esquifes. E logo vieram todos os capitães das naus a esta nau do Capitão-mor. E ali falaram. E o Capitão mandou em terra a Nicolau Coelho para ver aquele rio. E tanto que ele começou a ir-se para lá, acudiram pela praia homens aos dois e aos três, de maneira que, quando o batel chegou à boca do rio, já lá estavam dezoito ou vinte.\n",
      "\n",
      "Pardos, nus, sem coisa alguma que lhes cobrisse suas vergonhas. Traziam arcos nas mãos, e suas setas. Vinham todos rijamente em direção ao batel. E Nicolau Coelho lhes fez sinal que pousassem os arcos. E eles os depuseram. Mas não pôde deles haver fala nem entendimento que aproveitasse, por o mar quebrar na costa. Somente arremessou-lhe um barrete vermelho e uma carapuça de linho que levava na cabeça, e um sombreiro preto. E um deles lhe arremessou um sombreiro de penas de ave, compridas, com uma copazinha de penas vermelhas e pardas, como de papagaio. E outro lhe deu um ramal grande de continhas brancas, miúdas que querem parecer de aljôfar, as quais peças creio que o Capitão manda a Vossa Alteza. E com isto se volveu às naus por ser tarde e não poder haver deles mais fala, por causa do mar.\n",
      "\n",
      "À noite seguinte ventou tanto sueste com chuvaceiros que fez caçar as naus. E especialmente a Capitaina. E sexta pela manhã, às oito horas, pouco mais ou menos, por conselho dos pilotos, mandou o Capitão levantar ancoras e fazer vela. E fomos de longo da costa, com os batéis e esquifes amarrados na popa, em direção norte, para ver se achávamos alguma abrigada e bom pouso, onde nós ficássemos, para tomar água e lenha. Não por nos já minguar, mas por nos prevenirmos aqui. E quando fizemos vela estariam já na praia assentados perto do rio obra de sessenta ou setenta homens que se haviam juntado ali aos poucos. Fomos ao longo, e mandou o Capitão aos navios pequenos que fossem mais chegados à terra e, se achassem pouso seguro para as naus, que amainassem.\n",
      "\n",
      "E velejando nós pela costa, na distância de dez léguas do sítio onde tínhamos levantado ferro, acharam os ditos navios pequenos um recife com um porto dentro, muito bom e muito seguro, com uma mui larga entrada. E meteram-se dentro e amainaram. E as naus foram-se chegando, atrás deles. E um pouco antes de sol-pôsto amainaram também, talvez a uma légua do recife, e ancoraram a onze braças.\n",
      "\n",
      "E estando Afonso Lopez, nosso piloto, em um daqueles navios pequenos, foi, por mandado do Capitão, por ser homem vivo e destro para isso, meter-se logo no esquife a sondar o porto dentro. E tomou dois daqueles homens da terra que estavam numa almadia: mancebos e de bons corpos. Um deles trazia um arco, e seis ou sete setas. E na praia andavam muitos com seus arcos e setas; mas não os aproveitou. Logo, já de noite, levou-os à Capitaina, onde foram recebidos com muito prazer e festa.\n",
      "\n",
      "A feição deles é serem pardos, um tanto avermelhados, de bons rostos e bons narizes, bem feitos. Andam nus, sem cobertura alguma. Nem fazem mais caso de encobrir ou deixa de encobrir suas vergonhas do que de mostrar a cara. Acerca disso são de grande inocência. Ambos traziam o beiço de baixo furado e metido nele um osso verdadeiro, de comprimento de uma mão travessa, e da grossura de um fuso de algodão, agudo na ponta como um furador. Metem-nos pela parte de dentro do beiço; e a parte que lhes fica entre o beiço e os dentes é feita a modo de roque de xadrez. E trazem-no ali encaixado de sorte que não os magoa, nem lhes põe estorvo no falar, nem no comer e beber.\n",
      "\n",
      "Os cabelos deles são corredios. E andavam tosquiados, de tosquia alta antes do que sobre-pente, de boa grandeza, rapados todavia por cima das orelhas. E um deles trazia por baixo da solapa, de fonte a fonte, na parte detrás, uma espécie de cabeleira, de penas de ave amarela, que seria do comprimento de um coto, mui basta e mui cerrada, que lhe cobria o toutiço e as orelhas. E andava pegada aos cabelos, pena por pena, com uma confeição branda como, de maneira tal que a cabeleira era mui redonda e mui basta, e mui igual, e não fazia míngua mais lavagem para a levantar. O Capitão, quando eles vieram, estava sentado em uma cadeira, aos pés uma alcatifa por estrado; e bem vestido, com um colar de ouro, mui grande, ao pescoço. E Sancho de Tovar, e Simão de Miranda, e Nicolau Coelho, e Aires Corrêa, e nós outros que aqui na nau com ele íamos, sentados no chão, nessa alcatifa. Acenderam-se tochas. E eles entraram. Mas nem sinal de cortesia fizeram, nem de falar ao Capitão; nem a alguém. Todavia um deles fitou o colar do Capitão, e começou a fazer acenos com a mão em direção à terra, e depois para o colar, como se quisesse dizer-nos que havia ouro na terra. E também olhou para um castiçal de prata e assim mesmo acenava para a terra e novamente para o castiçal, como se lá também houvesse prata!\n",
      "\n",
      "Mostraram-lhes um papagaio pardo que o Capitão traz consigo; tomaram-no logo na mão e acenaram para a terra, como se os houvesse ali.\n",
      "\n",
      "Mostraram-lhes um carneiro; não fizeram caso dele.\n",
      "\n",
      "Mostraram-lhes uma galinha; quase tiveram medo dela, e não lhe queriam pôr a mão. Depois lhe pegaram, mas como espantados.\n",
      "\n",
      "Deram-lhes ali de comer: pão e peixe cozido, confeitos, fartéis, mel, figos passados. Não quiseram comer daquilo quase nada; e se provavam alguma coisa, logo a lançavam fora.\n",
      "\n",
      "Trouxeram-lhes vinho em uma taça; mal lhe puseram a boca; não gostaram dele nada, nem quiseram mais.\n",
      "\n",
      "Trouxeram-lhes água em uma albarrada, provaram cada um o seu bochecho, mas não beberam; apenas lavaram as bocas e lançaram-na fora.\n",
      "\n",
      "Viu um deles umas contas de rosário, brancas; fez sinal que lhas dessem, e folgou muito com elas, e lançou-as ao pescoço; e depois tirou-as e meteu-as em volta do braço, e acenava para a terra e novamente para as contas e para o colar do Capitão, como se dariam ouro por aquilo.\n",
      "\n",
      "Isto tomávamos nós nesse sentido, por assim o desejarmos! Mas se ele queria dizer que levaria as contas e mais o colar, isto não queríamos nós entender, por que lho não havíamos de dar! E depois tornou as contas a quem lhas dera. E então estiraram-se de costas na alcatifa, a dormir sem procurarem maneiras de encobrir suas vergonhas, as quais não eram fanadas; e as cabeleiras delas estavam bem rapadas e feitas.\n",
      "\n",
      "O Capitão mandou pôr por baixo da cabeça de cada um seu coxim; e o da cabeleira esforçava-se por não a estragar. E deitaram um manto por cima deles; e consentindo, aconchegaram-se e adormeceram.\n",
      "\n",
      "Sábado pela manhã mandou o Capitão fazer vela, fomos demandar a entrada, a qual era mui larga e tinha seis a sete braças de fundo. E entraram todas as naus dentro, e ancoraram em cinco ou seis braças — ancoradouro que é tão grande e tão formoso de dentro, e tão seguro que podem ficar nele mais de duzentos navios e naus. E tanto que as naus foram distribuídas e ancoradas, vieram os capitães todos a esta nau do Capitão-mor. E daqui mandou o Capitão que Nicolau Coelho e Bartolomeu Dias fossem em terra e levassem aqueles dois homens, e os deixassem ir com seu arco e setas, aos quais mandou dar a cada um uma camisa nova e uma carapuça vermelha e um rosário de contas brancas de osso, que foram levando nos braços, e um cascavel e uma campainha. E mandou com eles, para lá ficar, um mancebo degredado, criado de dom João Telo, de nome Afonso Ribeiro, para lá andar com eles e saber de seu viver e maneiras. E a mim mandou que fosse com Nicolau Coelho. Fomos assim de frecha direitos à praia. Ali acudiram logo perto de duzentos homens, todos nus, com arcos e setas nas mãos. Aqueles que nós levamos acenaram-lhes que se afastassem e depusessem os arcos. E eles os depuseram.\n",
      "\n",
      "Mas não se afastaram muito. E mal tinham pousado seus arcos quando saíram os que nós levávamos, e o mancebo degredado com eles. E saídos não pararam mais; nem esperavam um pelo outro, mas antes corriam a quem mais correria. E passaram um rio que aí corre, de água doce, de muita água que lhes dava pela braga. E muitos outros com eles. E foram assim correndo para além do rio entre umas moitas de palmeiras onde estavam outros. E ali pararam. E naquilo tinha ido o degredado com um homem que, logo ao sair do batel, o agasalhou e levou até lá. Mas logo o tornaram a nós. E com ele vieram os outros que nós leváramos, os quais vinham já nus e sem carapuças.\n",
      "\n",
      "E então se começaram de chegar muitos; e entravam pela beira do mar para os batéis, até que mais não podiam. E traziam cabaças d'água, e tomavam alguns barris que nós levávamos e enchiam-nos de água e traziam-nos aos batéis. Não que eles de todo chegassem a bordo do batel. Mas junto a ele, lançavam-nos da mão. E nós tomávamo-los. E pediam que lhes dessem alguma coisa.\n",
      "\n",
      "Levava Nicolau Coelho cascavéis e manilhas. E a uns dava um cascavel, e a outros uma manilha, de maneira que com aquela encarna quase que nos queriam dar a mão. Davam-nos daqueles arcos e setas em troca de sombreiros e carapuças de linho, e de qualquer coisa que a gente lhes queria dar.\n",
      "\n",
      "Dali se partiram os outros, dois mancebos, que não os vimos mais. Dos que ali andavam, muitos — quase a maior parte —traziam aqueles bicos de osso nos beiços.\n",
      "\n",
      "E alguns, que andavam sem eles, traziam os beiços furados e nos buracos traziam uns espelhos de pau, que pareciam espelhos de borracha. E alguns deles traziam três daqueles bicos, a saber um no meio, e os dois nos cabos.\n",
      "\n",
      "E andavam lá outros, quartejados de cores, a saber metade deles da sua própria cor, e metade de tintura preta, um tanto azulada; e outros quartejados d'escaques.\n",
      "\n",
      "Ali andavam entre eles três ou quatro moças, bem novinhas e gentis, com cabelos muito pretos e compridos pelas costas; e suas vergonhas, tão altas e tão cerradinhas e tão limpas das cabeleiras que, de as nós muito bem olharmos, não se envergonhavam.\n",
      "\n",
      "Ali por então não houve mais fala ou entendimento com eles, por a barbana deles ser tamanha que se não entendia nem ouvia ninguém. Acenamos-lhes que se fossem. E assim o fizeram e passaram-se para além do rio. E saíram três ou quatro homens nossos dos batéis, e encheram não sei quantos barris d'água que nós levávamos. E tornamo-nos às naus. E quando assim vínhamos, acenaram-nos que voltássemos. Voltamos, e eles mandaram o degredado e não quiseram que ficasse lá com eles, o qual levava uma bacia pequena e duas ou três carapuças vermelhas para lá as dar ao senhor, se o lá houvesse. Não trataram de lhe tirar coisa alguma, antes mandaram-no com tudo. Mas então Bartolomeu Dias o fez outra vez tornar, que lhe desse aquilo. E ele tornou e deu aquilo, em vista de nós, a aquele que o da primeira agasalhara. E então veio-se, e nós levamo-lo.\n",
      "\n",
      "Esse que o agasalhou era já de idade, e andava por galanteria, cheio de penas, pegadas pelo corpo, que parecia seteado como São Sebastião. Outros traziam carapuças de penas amarelas; e outros, de vermelhas; e outros de verdes. E uma daquelas moças era toda tingida de baixo a cima, daquela tintura e certo era tão bem feita e tão redonda, e sua vergonha tão graciosa que a muitas mulheres de nossa terra, vendo-lhe tais feições envergonhara, por não terem as suas como ela.\n",
      "\n",
      "Nenhum deles era fanado, mas todos assim como nós.\n",
      "\n",
      "E com isto nos tornamos, e eles foram-se.\n",
      "\n",
      "À tarde saiu o Capitão-mor em seu batel com todos nós outros capitães das naus em seus batéis a folgar pela baía, perto da praia. Mas ninguém saiu em terra, por o Capitão o não querer, apesar de ninguém estar nela. Apenas saiu — ele com todos nós — em um ilhéu grande que está na baía, o qual, aquando baixamar, fica mui vazio. Com tudo está de todas as partes cercado de água, de sorte que ninguém lá pode ir, a não ser de barco ou a nado. Ali folgou ele, e todos nós, bem uma hora e meia. E pescaram lá, andando alguns marinheiros com um chinchorro; e mataram peixe miúdo, não muito. E depois volvemo-nos às naus, já bem noite.\n",
      "\n",
      "A Primeira Missa no Brasil (1861), pintura de Victor Meirelles.Ao domingo de Pascoela pela manhã, determinou o Capitão ir ouvir missa e sermão naquele ilhéu. E mandou a todos os capitães que se arranjassem nos batéis e fossem com ele. E assim foi feito. Mandou armar um pavilhão naquele ilhéu, e dentro levantar um altar mui bem arranjado. E ali com todos nós outros fez dizer missa, a qual disse o padre frei Henrique, em voz entoada, e oficiada com aquela mesma voz pelos outros padres e sacerdotes que todos assistiram, a qual missa, segundo meu parecer, foi ouvida por todos com muito prazer e devoção.\n",
      "\n",
      "Ali estava com o Capitão a bandeira de Cristo, com que saíra de Belém, a qual esteve sempre bem alta, da parte do Evangelho.\n",
      "\n",
      "Acabada a missa, desvestiu-se o padre e subiu a uma cadeira alta; e nós todos lançados por essa areia. E pregou uma solene e proveitosa pregação, da história evangélica; e no fim tratou da nossa vida, e do achamento desta terra, referindo-se à Cruz, sob cuja obediência viemos, que veio muito a propósito, e fez muita devoção.\n",
      "\n",
      "Enquanto assistimos à missa e ao sermão, estaria na praia outra tanta gente, pouco mais ou menos, como a de ontem, com seus arcos e setas, e andava folgando. E olhando-nos, sentaram. E depois de acabada a missa, quando nós sentados atendíamos a pregação, levantaram-se muitos deles e tangeram corno ou buzina e começaram a saltar e dançar um pedaço. E alguns deles se metiam em almadias — duas ou três que lá tinham — as quais não são feitas como as que eu vi; apenas são três traves, atadas juntas. E ali se metiam quatro ou cinco, ou esses que queriam, não se afastando quase nada da terra, só até onde podiam tomar pé.\n",
      "\n",
      "Acabada a pregação encaminhou-se o Capitão, com todos nós, para os batéis, com nossa bandeira alta. Embarcamos e fomos indo todos em direção à terra para passarmos ao longo por onde eles estavam, indo na dianteira, por ordem do Capitão, Bartolomeu Dias em seu esquife, com um pau de uma almadia que lhes o mar levara, para o entregar a eles. E nós todos trás dele, a distância de um tiro de pedra.\n",
      "\n",
      "Como viram o esquife de Bartolomeu Dias, chegaram-se logo todos à água, metendo-se nela até onde mais podiam. Acenaram-lhes que pousassem os arcos e muitos deles os iam logo pôr em terra; e outros não os punham.\n",
      "\n",
      "Andava lá um que falava muito aos outros, que se afastassem. Mas não já que a mim me parecesse que lhe tinham respeito ou medo. Este que os assim andava afastando trazia seu arco e setas. Estava tinto de tintura vermelha pelos peitos e costas e pelos quadris, coxas e pernas até baixo, mas os vazios com a barriga e estômago eram de sua própria cor. E a tintura era tão vermelha que a água lha não comia nem desfazia. Antes, quando saía da água, era mais vermelho. Saiu um homem do esquife de Bartolomeu Dias e andava no meio deles, sem implicarem nada com ele, e muito menos ainda pensavam em fazer-lhe mal.\n",
      "\n",
      "Apenas lhe davam cabaças d'água; e acenavam aos do esquife que saíssem em terra. Com isto se volveu Bartolomeu Dias ao Capitão. E viemo-nos às naus, a comer, tangendo trombetas e gaitas, sem os mais constranger. E eles tornaram-se a sentar na praia, e assim por então ficaram.\n",
      "\n",
      "Neste ilhéu, onde fomos ouvir missa e sermão, espraia muito a água e descobre muita areia e muito cascalho. Enquanto lá estávamos foram alguns buscar marisco e não no acharam. Mas acharam alguns camarões grossos e curtos, entre os quais vinha um muito grande e muito grosso; que em nenhum tempo o vi tamanho. Também acharam cascas de berbigões e de amêijoas, mas não toparam com nenhuma peça inteira. E depois de termos comido vieram logo todos os capitães a esta nau, por ordem do Capitão-mor, com os quais ele se aportou; e eu na companhia. E perguntou a todos se nos parecia bem mandar a nova do achamento desta terra a Vossa Alteza pelo navio dos mantimentos, para a melhor mandar descobrir e saber dela mais do que nós podíamos saber, por irmos na nossa viagem.\n",
      "\n",
      "E entre muitas falas que sobre o caso se fizeram foi dito, por todos ou a maior parte, que seria muito bem. E nisto concordaram. E logo que a resolução foi tomada, perguntou mais, se seria bem tomar aqui por força um par destes homens para os mandar a Vossa Alteza, deixando aqui em lugar deles outros dois destes degredados.\n",
      "\n",
      "E concordaram em que não era necessário tomar por força homens, porque costume era dos que assim à força levavam para alguma parte dizerem que há de tudo quanto lhes perguntam; e que melhor e muito melhor informação da terra dariam dois homens desses degredados que aqui deixássemos do que eles dariam se os levassem por ser gente que ninguém entende.\n",
      "\n",
      "Nem eles cedo aprenderiam a falar para o saberem tão bem dizer que muito melhor estoutros o não digam quando cá Vossa Alteza mandar.\n",
      "\n",
      "E que portanto não cuidássemos de aqui por força tomar ninguém, nem fazer escândalo; mas sim, para os de todo amansar e apaziguar, unicamente de deixar aqui os dois degredados quando daqui partíssemos.\n",
      "\n",
      "E assim ficou determinado por parecer melhor a todos.\n",
      "\n",
      "Acabado isto, disse o Capitão que fôssemos nos batéis em terra. E ver-se-ia bem, quejando era o rio. Mas também para folgarmos.\n",
      "\n",
      "Fomos todos nos batéis em terra, armados; e a bandeira conosco. Eles andavam ali na praia, à boca do rio, para onde nós íamos; e, antes que chegássemos, pelo ensino que dantes tinham, puseram todos os arcos, e acenaram que saíssemos. Mas, tanto que os batéis puseram as proas em terra, passaram-se logo todos além do rio, o qual não é mais ancho que um jogo de mancal.\n",
      "\n",
      "E tanto que desembarcamos, alguns dos nossos passaram logo o rio, e meteram-se entre eles.\n",
      "\n",
      "E alguns aguardavam; e outros se afastavam. Com tudo, a coisa era de maneira que todos andavam misturados. Eles davam desses arcos com suas setas por sombreiros e carapuças de linho, e por qualquer coisa que lhes davam. Passaram além tantos dos nossos e andaram assim misturados com eles, que eles se esquivavam, e afastavam-se; e iam alguns para cima, onde outros estavam. E então o Capitão fez que o tomassem ao colo dois homens e passou o rio, e fez tornar a todos. A gente que ali estava não seria mais que aquela do costume. Mas logo que o Capitão chamou todos para trás, alguns se chegaram a ele, não por o reconhecerem por Senhor, mas porque a gente, nossa, já passava para aquém do rio. Ali falavam e traziam muitos arcos e continhas, daquelas já ditas, e resgatavam-nas por qualquer coisa, de tal maneira que os nossos levavam dali para as naus muitos arcos, e setas e contas. E então tornou-se o Capitão para aquém do rio. E logo acudiram muitos à beira dele.\n",
      "\n",
      "Ali veríeis galantes, pintados de preto e vermelho, e quartejados, assim pelos corpos como pelas pernas, que, certo, assim pareciam bem. Também andavam entre eles quatro ou cinco mulheres, novas, que assim nuas, não pareciam mal. Entre elas andava uma, com uma coxa, do joelho até o quadril e a nádega, toda tingida daquela tintura preta; e todo o resto da sua cor natural. Outra trazia ambos os joelhos com as curvas assim tintas, e também os colos dos pés; e suas vergonhas tão nuas, e com tanta inocência assim descobertas, que não havia nisso desvergonha nenhuma. Também andava lá outra mulher, nova, com um menino ou menina, atado com um pano aos peitos, de modo que não se lhe viam senão as perninhas. Mas nas pernas da mãe, e no resto, não havia pano algum.\n",
      "\n",
      "Em seguida o Capitão foi subindo ao longo do rio, que corre rente à praia. E ali esperou por um velho que trazia na mão uma pá de almadia. Falou, enquanto o Capitão estava com ele, na presença de todos nós; mas ninguém o entendia, nem ele a nós, por mais coisas que a gente lhe perguntava com respeito a ouro, porque desejávamos saber se o havia na terra.\n",
      "\n",
      "Trazia este velho o beiço tão furado que lhe cabia pelo buraco um grosso dedo polegar. E trazia metido no buraco uma pedra verde, de nenhum valor, que fechava por fora aquele buraco. E o Capitão lha fez tirar. E ele não sei que diabo falava e ia com ela para a boca do Capitão para lha meter. Estivemos rindo um pouco e dizendo chalaças sobre isso. E então enfadou-se o Capitão, e deixou-o. E um dos nossos deu-lhe pela pedra um sombreiro velho; não por ela valer alguma coisa, mas para amostra. E depois houve-a o Capitão, creio, para mandar com as outras coisas a Vossa Alteza.\n",
      "\n",
      "Andamos por aí vendo o ribeiro, o qual é de muita água e muito boa. Ao longo dele há muitas palmeiras, não muito altas; e muito bons palmitos. Colhemos e comemos muitos deles. Depois tornou-se o Capitão para baixo para a boca do rio, onde tínhamos desembarcado.\n",
      "\n",
      "E além do rio andavam muitos deles dançando e folgando, uns diante os outros, sem se tomarem pelas mãos. E faziam-no bem. Passou-se então para a outra banda do rio Diogo Dias, que fora almoxarife de Sacavém, o qual é homem gracioso e de prazer. E levou consigo um gaiteiro nosso com sua gaita. E meteu-se a dançar com eles, tomando-os pelas mãos; e eles folgavam e riam e andavam com ele muito bem ao som da gaita. Depois de dançarem fez ali muitas voltas ligeiras, andando no chão, e salto real, de que se eles espantavam e riam e folgavam muito. E conquanto com aquilo os segurou e afagou muito, tomavam logo uma esquiveza como de animais montezes, e foram-se para cima.\n",
      "\n",
      "E então passou o rio o Capitão com todos nós, e fomos pela praia, de longo, ao passo que os batéis iam rentes à terra. E chegamos a uma grande lagoa de água doce que está perto da praia, porque toda aquela ribeira do mar é apaulada por cima e sai a água por muitos lugares. E depois de passarmos o rio, foram uns sete ou oito deles meter-se entre os marinheiros que se recolhiam aos batéis. E levaram dali um tubarão que Bartolomeu Dias matou. E levavam-lho; e lançou-o na praia.\n",
      "\n",
      "Bastará que até aqui, como quer que se lhes em alguma parte amansassem, logo de uma mão para outra se esquivavam, como pardais do cevadouro. Ninguém não lhes ousa falar de rijo para não se esquivarem mais. E tudo se passa como eles querem — para os bem amansarmos !\n",
      "\n",
      "Ao velho com quem o Capitão havia falado, deu-lhe uma carapuça vermelha. E com toda a conversa que com ele houve, e com a carapuça que lhe deu tanto que se despediu e começou a passar o rio, foi-se logo recatando. E não quis mais tornar do rio para aquém. Os outros dois o Capitão teve nas naus, aos quais deu o que já ficou dito, nunca mais aqui apareceram — fatos de que deduzo que é gente bestial e de pouco saber, e por isso tão esquiva. Mas apesar de tudo isso andam bem curados, e muito limpos. E naquilo ainda mais me convenço que são como aves, ou alimárias montezinhas, as quais o ar faz melhores penas e melhor cabelo que às mansas, porque os seus corpos são tão limpos e tão gordos e tão formosos que não pode ser mais! E isto me faz presumir que não tem casas nem moradias em que se recolham; e o ar em que se criam os faz tais. Nós pelo menos não vimos até agora nenhumas casas, nem coisa que se pareça com elas.\n",
      "\n",
      "Mandou o Capitão aquele degredado, Afonso Ribeiro, que se fosse outra vez com eles. E foi; e andou lá um bom pedaço, mas a tarde regressou, que o fizeram eles vir: e não o quiseram lá consentir. E deram-lhe arcos e setas; e não lhe tomaram nada do seu. Antes, disse ele, que lhe tomara um deles umas continhas amarelas que levava e fugia com elas, e ele se queixou e os outros foram logo após ele, e lhas tomaram e tornaram-lhas a dar; e então mandaram-no vir. Disse que não vira lá entre eles senão umas choupaninhas de rama verde e de feteiras muito grandes, como as de Entre Douro e Minho. E assim nostornamos às naus, já quase noite, a dormir.\n",
      "\n",
      "Segunda-feira, depois de comer, saímos todos em terra a tomar água. Ali vieram então muitos; mas não tantos como as outras vezes. E traziam já muito poucos arcos. E estiveram um pouco afastados de nós; mas depois pouco a pouco misturaram-se conosco; e abraçavam-nos e folgavam; mas alguns deles se esquivavam logo. Ali davam alguns arcos por folhas de papel e por alguma carapucinha velha e por qualquer coisa. E de tal maneira se passou a coisa que bem vinte ou trinta pessoas das nossas se foram com eles para onde outros muitos deles estavam com moças e mulheres. E trouxeram de lá muitos arcos e barretes de penas de aves, uns verdes, outros amarelos, dos quais creio que o Capitão há de mandar uma amostra a Vossa Alteza.\n",
      "\n",
      "E segundo diziam esses que lá tinham ido, brincaram com eles. Neste dia os vimos mais de perto e mais à nossa vontade, por andarmos quase todos misturados: uns andavam quartejados daquelas tinturas, outros de metades, outros de tanta feição como em pano de ras, e todos com os beiços furados, muitos com os ossos neles, e bastantes sem ossos. Alguns traziam uns ouriços verdes, de árvores, que na cor queriam parecer de castanheiras, embora fossem muito mais pequenos. E estavam cheios de uns grãos vermelhos, pequeninos que, esmagando-se entre os dedos, se desfaziam na tinta muito vermelha de que andavam tingidos. E quanto mais se molhavam, tanto mais vermelhos ficavam. Todos andam rapados até por cima das orelhas; assim mesmo de sobrancelhas e pestanas.\n",
      "\n",
      "Trazem todos as testas, de fonte a fonte, tintas de tintura preta, que parece uma fita preta da largura de dois dedos.\n",
      "\n",
      "E o Capitão mandou aquele degredado Afonso Ribeiro e a outros dois degredados que fossem meter-se entre eles; e assim mesmo a Diogo Dias, por ser homem alegre, com que eles folgavam. E aos degredados ordenou que ficassem lá esta noite.\n",
      "\n",
      "Foram-se lá todos; e andaram entre eles. E segundo depois diziam, foram bem uma légua e meia a uma povoação, em que haveria nove ou dez casas, as quais diziam que eram tão compridas, cada uma, como esta nau capitaina. E eram de madeira, e das ilhargas de tábuas, e cobertas de palha, de razoável altura; e todas de um só espaço, sem repartição alguma, tinham de dentro muitos esteios; e de esteio a esteio uma rede atada com cabos em cada esteio, altas, em que dormiam. E de baixo, para se aquentarem, faziam seus fogos. E tinha cada casa duas portas pequenas, uma numa extremidade, e outra na oposta.\n",
      "\n",
      "E diziam que em cada casa se recolhiam trinta ou quarenta pessoas, e que assim os encontraram; e que lhes deram de comer dos alimentos que tinham, a saber muito inhame, e outras sementes que na terra dá, que eles comem. E como se fazia tarde fizeram-nos logo todos tornar; e não quiseram que lá ficasse nenhum. E ainda, segundo diziam, queriam vir com eles. Resgataram lá por cascavéis e outras coisinhas de pouco valor, que levavam, papagaios vermelhos, muito grandes e formosos, e dois verdes pequeninos, e carapuças de penas verdes, e um pano de penas de muitas cores, espécie de tecido assaz belo, segundo Vossa Alteza todas estas coisas verá, porque o Capitão vo-las há de mandar, segundo ele disse. E com isto vieram; e nós tornamo-nos às naus.\n",
      "\n",
      "Terça-feira, depois de comer, fomos em terra, fazer lenha, e para lavar roupa. Estavam na praia, quando chegamos, uns sessenta ou setenta, sem arcos e sem nada. Tanto que chegamos, vieram logo para nós, sem se esquivarem. E depois acudiram muitos, que seriam bem duzentos, todos sem arcos. E misturaram-se todos tanto conosco que uns nos ajudavam a acarretar lenha e metê-las nos batéis. E lutavam com os nossos, e tomavam com prazer. E enquanto fazíamos a lenha, construíam dois carpinteiros uma grande cruz de um pau que se ontem para isso cortara. Muitos deles vinham ali estar com os carpinteiros. E creio que o faziam mais para verem a ferramenta de ferro com que a faziam do que para verem a cruz, porque eles não tem coisa que de ferro seja, e cortam sua madeira e paus com pedras feitas como cunhas, metidas em um pau entre duas talas, mui bem atadas e por tal maneira que andam fortes, porque lhas viram lá. Era já a conversação deles conosco tanta que quase nos estorvavam no que havíamos de fazer.\n",
      "\n",
      "E o Capitão mandou a dois degredados e a Diogo Dias que fossem lá à aldeia e que de modo algum viessem a dormir às naus, ainda que os mandassem embora. E assim se foram.\n",
      "\n",
      "Enquanto andávamos nessa mata a cortar lenha, atravessavam alguns papagaios essas árvores; verdes uns, e pardos, outros, grandes e pequenos, de sorte que me parece que haverá muitos nesta terra. Todavia os que vi não seriam mais que nove ou dez, quando muito. Outras aves não vimos então, a não ser algumas pombas-seixeiras, e pareceram-me maiores bastante do que as de Portugal. Vários diziam que viram rolas, mas eu não as vi. Todavia segundo os arvoredos são mui muitos e grandes, e de infinitas espécies, não duvido que por esse sertão haja muitas aves!\n",
      "\n",
      "E cerca da noite nós volvemos para as naus com nossa lenha.\n",
      "\n",
      "Eu creio, Senhor, que não dei ainda conta aqui a Vossa Alteza do feitio de seus arcos e setas. Os arcos são pretos e compridos, e as setas compridas; e os ferros delas são canas aparadas, conforme Vossa Alteza verá alguns que creio que o Capitão a Ela há de enviar.\n",
      "\n",
      "Quarta-feira não fomos em terra, porque o Capitão andou todo o dia no navio dos mantimentos a despejá-lo e fazer levar às naus isso que cada um podia levar. Eles acudiram à praia, muitos, segundo das naus vimos. Seriam perto de trezentos, segundo Sancho de Tovar que para lá foi. Diogo Dias e Afonso Ribeiro, o degredado, aos quais o Capitão ontem ordenara que de toda maneira lá dormissem, tinham voltado já de noite, por eles não quererem que lá ficassem. E traziam papagaios verdes; e outras aves pretas, quase como pegas, com a diferença de terem o bico branco e rabos curtos. E quando Sancho de Tovar recolheu à nau, queriam vir com ele, alguns; mas ele não admitiu senão dois mancebos, bem dispostos e homens de prol. Mandou pensar e curá-los mui bem essa noite. E comeram toda a ração que lhes deram, e mandou dar-lhes cama de lençóis, segundo ele disse. E dormiram e folgaram aquela noite. E não houve mais este dia que para escrever seja.\n",
      "\n",
      "Quinta-feira, derradeiro de abril, comemos logo, quase pela manhã, e fomos em terra por mais lenha e água. E em querendo o Capitão sair desta nau, chegou Sancho de Tovar com seus dois hóspedes. E por ele ainda não ter comido, puseram-lhe toalhas, e veio-lhe comida. E comeu. Os hóspedes, sentaram-no cada um em sua cadeira. E de tudo quanto lhes deram, comeram mui bem, especialmente lacão cozido frio, e arroz. Não lhes deram vinho por Sancho de Tovar dizer que o não bebiam bem.\n",
      "\n",
      "Acabado o comer, metemo-nos todos no batel, e eles conosco. Deu um grumete a um deles uma armadura grande de porco montês, bem revolta. E logo que a tomou meteu-a no beiço; e porque se lhe não queria segurar, deram-lhe uma pouca de cera vermelha. E ele ajeitou-lhe seu adereço da parte de trás de sorte que segurasse, e meteu-a no beiço, assim revolta para cima; e ia tão contente com ela, como se tivesse uma grande jóia. E tanto que saímos em terra, foi-se logo com ela. E não tornou a aparecer lá.\n",
      "\n",
      "Andariam na praia, quando saímos, oito ou dez deles; e de aí a pouco começaram a vir. E parece-me que viriam este dia a praia quatrocentos ou quatrocentos e cinqüenta. Alguns deles traziam arcos e setas; e deram tudo em troca de carapuças e por qualquer coisa que lhes davam. Comiam conosco do que lhes dávamos, e alguns deles bebiam vinho, ao passo que outros o não podiam beber. Mas quer-me parecer que, se os acostumarem, o hão de beber de boa vontade! Andavam todos tão bem dispostos e tão bem feitos e galantes com suas pinturas que agradavam. Acarretavam dessa lenha quanta podiam, com mil boas vontades, e levavam-na aos batéis. E estavam já mais mansos e seguros entre nós do que nós estávamos entre eles.\n",
      "\n",
      "Foi o Capitão com alguns de nós um pedaço por este arvoredo até um ribeiro grande, e de muita água, que ao nosso parecer é o mesmo que vem ter à praia, em que nós tomamos água. Ali descansamos um pedaço, bebendo e folgando, ao longo dele, entre esse arvoredo que é tanto e tamanho e tão basto e de tanta qualidade de folhagem que não se pode calcular. Há lá muitas palmeiras, de que colhemos muitos e bons palmitos.\n",
      "\n",
      "Ao sairmos do batel, disse o Capitão que seria bom irmos em direitura à cruz que estava encostada a uma árvore, junto ao rio, a fim de ser colocada amanhã, sexta-feira, e que nos puséssemos todos de joelhos e a beijássemos para eles verem o acatamento que lhe tínhamos. E assim fizemos. E a esses dez ou doze que lá estavam, acenaram-lhes que fizessem o mesmo; e logo foram todos beijá-la.\n",
      "\n",
      "Parece-me gente de tal inocência que, se nós entendêssemos a sua fala e eles a nossa, seriam logo cristãos, visto que não têm nem entendem crença alguma, segundo as aparências. E portanto se os degredados que aqui hão de ficar aprenderem bem a sua fala e os entenderem, não duvido que eles, segundo a santa tenção de Vossa Alteza, se farão cristãos e hão de crer na nossa santa fé, à qual praza a Nosso Senhor que os traga, porque certamente esta gente é boa e de bela simplicidade. E imprimir-se-á facilmente neles qualquer cunho que lhe quiserem dar, uma vez que Nosso Senhor lhes deu bons corpos e bons rostos, como a homens bons. E o Ele nos para aqui trazer creio que não foi sem causa. E portanto Vossa Alteza, pois tanto deseja acrescentar a santa fé católica, deve cuidar da salvação deles. E prazerá a Deus que com pouco trabalho seja assim!\n",
      "\n",
      "Eles não lavram nem criam. Nem há aqui boi ou vaca, cabra, ovelha ou galinha, ou qualquer outro animal que esteja acostumado ao viver do homem. E não comem senão deste inhame, de que aqui há muito, e dessas sementes e frutos que a terra e as árvores de si deitam. E com isto andam tais e tão rijos e tão nédios que o não somos nós tanto, com quanto trigo e legumes comemos.\n",
      "\n",
      "Nesse dia, enquanto ali andavam, dançaram e bailaram sempre com os nossos, ao som de um tamboril nosso, como se fossem mais amigos nossos do que nós seus. Se lhes a gente acenava, se queriam vir às naus, aprontavam-se logo para isso, de modo tal, que se os convidáramos a todos, todos vieram. Porém não levamos esta noite às naus senão quatro ou cinco; a saber, o Capitão-mor, dois; e Simão de Miranda, um que já trazia por pagem; e Aires Gomes a outro, pagem também. Os que o Capitão trazia, era um deles um dos seus hóspedes que lhe haviam trazido a primeira vez quando aqui chegamos — o qual veio hoje aqui vestido na sua camisa, e com ele um seu irmão; e foram esta noite mui bem agasalhados tanto de comida como de cama, de colchões e lençóis, para os mais amansar.\n",
      "\n",
      "E hoje que é sexta-feira, primeiro dia de maio, pela manhã, saímos em terra com nossa bandeira; e fomos desembarcar acima do rio, contra o sul onde nos pareceu que seria melhor arvorar a cruz, para melhor ser vista. E ali marcou o Capitão o sítio onde haviam de fazer a cova para a fincar. E enquanto a iam abrindo, ele com todos nós outros fomos pela cruz, rio abaixo onde ela estava. E com os religiosos e sacerdotes que cantavam, à frente, fomos trazendo-a dali, a modo de procissão. Eram já aí quantidade deles, uns setenta ou oitenta; e quando nos assim viram chegar, alguns se foram meter debaixo dela, ajudar-nos. Passamos o rio, ao longo da praia; e fomos colocá-la onde havia de ficar, que será obra de dois tiros de besta do rio. Andando-se ali nisto, viriam bem cento cinqüenta, ou mais. Plantada a cruz, com as armas e a divisa de Vossa Alteza, que primeiro lhe haviam pregado, armaram altar ao pé dela. Ali disse missa o padre frei Henrique, a qual foi cantada e oficiada por esses já ditos. Ali estiveram conosco, a ela, perto de cinqüenta ou sessenta deles, assentados todos de joelho assim como nós. E quando se veio ao Evangelho, que nos erguemos todos em pé, com as mãos levantadas, eles se levantaram conosco, e alçaram as mãos, estando assim até se chegar ao fim; e então tornaram-se a assentar, como nós. E quando levantaram a Deus, que nos pusemos de joelhos, eles se puseram assim como nós estávamos, com as mãos levantadas, e em tal maneira sossegados que certifico a Vossa Alteza que nos fez muita devoção.\n",
      "\n",
      "Estiveram assim conosco até acabada a comunhão; e depois da comunhão, comungaram esses religiosos e sacerdotes; e o Capitão com alguns de nós outros. E alguns deles, por o Sol ser grande, levantaram-se enquanto estávamos comungando, e outros estiveram e ficaram. Um deles, homem de cinqüenta ou cinqüenta e cinco anos, se conservou ali com aqueles que ficaram. Esse, enquanto assim estávamos, juntava aqueles que ali tinham ficado, e ainda chamava outros. E andando assim entre eles, falando-lhes, acenou com o dedo para o altar, e depois mostrou com o dedo para o céu, como se lhes dissesse alguma coisa de bem; e nós assim o tomamos!\n",
      "\n",
      "Acabada a missa, tirou o padre a vestimenta de cima, e ficou na alva; e assim se subiu, junto ao altar, em uma cadeira; e ali nos pregou o Evangelho e dos Apóstolos cujo é o dia, tratando no fim da pregação desse vosso prosseguimento tão santo e virtuoso, que nos causou mais devoção. Esses que estiveram sempre à pregação estavam assim como nós olhando para ele. E aquele que digo, chamava alguns, que viessem ali. Alguns vinham e outros iam-se; e acabada a pregação, trazia Nicolau Coelho muitas cruzes de estanho com crucifixos, que lhe ficaram ainda da outra vinda. E houveram por bem que lançassem a cada um sua ao pescoço. Por essa causa se assentou o padre frei Henrique ao pé da cruz; e ali lançava a sua a todos — um a um — ao pescoço, atada em um fio, fazendo-lha primeiro beijar e levantar as mãos. Vinham a isso muitos; e lançavam-nas todas, que seriam obra de quarenta ou cinqüenta. E isto acabado — era já bem uma hora depois do meio dia — viemos às naus a comer, onde o Capitão trouxe consigo aquele mesmo que fez aos outros aquele gesto para o altar e para o céu, (e um seu irmão com ele). A aquele fez muita honra e deu-lhe uma camisa mourisca; e ao outro uma camisa destoutras.\n",
      "\n",
      "E segundo o que a mim e a todos pareceu, esta gente, não lhes falece outra coisa para ser toda cristã, do que entenderem-nos, porque assim tomavam aquilo que nos viam fazer como nós mesmos; por onde pareceu a todos que nenhuma idolatria nem adoração têm. E bem creio que, se Vossa Alteza aqui mandar quem entre eles mais devagar ande, que todos serão tornados e convertidos ao desejo de Vossa Alteza. E por isso, se alguém vier, não deixe logo de vir clérigo para os batizar; porque já então terão mais conhecimentos de nossa fé, pelos dois degredados que aqui entre eles ficam, os quais hoje também comungaram.\n",
      "\n",
      "Entre todos estes que hoje vieram não veio mais que uma mulher, moça, a qual esteve sempre à missa, à qual deram um pano com que se cobrisse; e puseram-lho em volta dela. Todavia, ao sentar-se, não se lembrava de o estender muito para se cobrir. Assim, Senhor, a inocência desta gente é tal que a de Adão não seria maior — com respeito ao pudor.\n",
      "\n",
      "Ora veja Vossa Alteza quem em tal inocência vive se se convertera, ou não, se lhe ensinarem o que pertence à sua salvação.\n",
      "\n",
      "Acabado isto, fomos perante eles beijar a cruz. E despedimo-nos e fomos comer.\n",
      "\n",
      "Creio, Senhor, que, com estes dois degredados que aqui ficam, ficarão mais dois grumetes, que esta noite se saíram em terra, desta nau, no esquife, fugidos, os quais não vieram mais. E cremos que ficarão aqui porque de manhã, prazendo a Deus fazemos nossa partida daqui. Esta terra, Senhor, parece-me que, da ponta que mais contra o sul vimos, até à outra ponta que contra o norte vem, de que nós deste porto houvemos vista, será tamanha que haverá nela bem vinte ou vinte e cinco léguas de costa. Traz ao longo do mar em algumas partes grandes barreiras, umas vermelhas, e outras brancas; e a terra de cima toda chã e muito cheia de grandes arvoredos. De ponta a ponta é toda praia... muito chã e muito formosa. Pelo sertão nos pareceu, vista do mar, muito grande; porque a estender olhos, não podíamos ver senão terra e arvoredos — terra que nos parecia muito extensa.\n",
      "\n",
      "Até agora não pudemos saber se há ouro ou prata nela, ou outra coisa de metal, ou ferro; nem lha vimos. Contudo a terra em si é de muito bons ares frescos e temperados como os de Entre-Douro-e-Minho, porque neste tempo d'agora assim os achávamos como os de lá. Águas são muitas; infinitas. Em tal maneira é graciosa que, querendo-a aproveitar, dar-se-á nela tudo; por causa das águas que tem!\n",
      "\n",
      "Contudo, o melhor fruto que dela se pode tirar parece-me que será salvar esta gente. E esta deve ser a principal semente que Vossa Alteza em ela deve lançar. E que não houvesse mais do que ter Vossa Alteza aqui esta pousada para essa navegação de Calicute bastava. Quanto mais, disposição para se nela cumprir e fazer o que Vossa Alteza tanto deseja, a saber, acrescentamento da nossa fé!\n",
      "\n",
      "E desta maneira dou aqui a Vossa Alteza conta do que nesta Vossa terra vi. E se a um pouco alonguei, Ela me perdoe.\n",
      "\n",
      "Porque o desejo que tinha de Vos tudo dizer, mo fez pôr assim pelo miúdo.\n",
      "\n",
      "E pois que, Senhor, é certo que tanto neste cargo que levo como em outra qualquer coisa que de Vosso serviço for, Vossa Alteza há de ser de mim muito bem servida, a Ela peço que, por me fazer singular mercê, mande vir da ilha de São Tomé a Jorge de Osório, meu genro — o que d'Ela receberei em muita mercê.\n",
      "\n",
      "Beijo as mãos de Vossa Alteza.\n",
      "\n",
      "Deste Porto Seguro, da Vossa Ilha da Vera Cruz, hoje, sexta-feira, primeiro dia de Maio de 1500.\n",
      "\n",
      "\n",
      "\n",
      "\n",
      "\n",
      "Sobre esta edição digital\n",
      "\n",
      "\n",
      "Este eBook foi gerado a partir do Wikisource,[1] biblioteca online multilíngue, feita por voluntários, comprometida em desenvolver uma coleção de publicações em copyleft de todos os gêneros: (romances, poemas, revistas e periódicos, cartas, livros técnicos etc)\n",
      "\n",
      "Nossos livros são distribuídos gratuitamente, a partir de materiais que tenham caído em domínio público ou que tenham sido disponibilizados em licenças livres. Você pode utilizar nossos materiais para quaisquer fins, inclusive comercialmente, dentro dos termos ou da Creative Commons BY-SA 3.0 [2] ou da GNU FDL,[3] à sua escolha.\n",
      "\n",
      "O Wikisource está sempre à procura de novos membros: sinta-se à vontade em participar. Apesar de nossos cuidados, é possível que este livro contenha um ou mais erros que nos passaram despercebidos. Seja por um ou por outro motivo, você pode nos contatar no nosso fórum.[4]\n",
      "\n",
      "Este livro em particular lhe foi disponibilizado a partir das pessoas por detrás destes nicknames:\n",
      "\n",
      "555\n",
      "\n",
      "Schultz\n",
      "\n",
      "DarwIn\n",
      "\n",
      "NMaia\n",
      "\n",
      "CommonsDelinker\n",
      "\n",
      "Get It\n",
      "\n",
      "Erico Koerich~ptwikisource\n",
      "\n",
      "Luan\n",
      "\n",
      "Tetraktys\n",
      "\n",
      "\n",
      "\n",
      "\n",
      "\n",
      "* * *\n",
      "\n",
      "\n",
      "\n",
      "↑ http://pt.wikisource.org\n",
      "\n",
      "↑ http://creativecommons.org/licenses/by-sa/3.0/deed.pt_BR\n",
      "\n",
      "↑ http://www.gnu.org/copyleft/fdl.html\n",
      "\n",
      "↑ https://pt.wikisource.org/wiki/Wikisource:Esplanada\n",
      "\n",
      "\n",
      "\n",
      "\n",
      "\n",
      "\n"
     ]
    }
   ],
   "source": [
    "print(dataset_text)"
   ]
  },
  {
   "cell_type": "code",
   "execution_count": 5,
   "id": "0a36bfed",
   "metadata": {
    "execution": {
     "iopub.execute_input": "2021-12-08T22:52:15.887591Z",
     "iopub.status.busy": "2021-12-08T22:52:15.886927Z",
     "iopub.status.idle": "2021-12-08T22:52:15.892561Z",
     "shell.execute_reply": "2021-12-08T22:52:15.893068Z",
     "shell.execute_reply.started": "2021-12-08T22:43:48.848288Z"
    },
    "papermill": {
     "duration": 0.071201,
     "end_time": "2021-12-08T22:52:15.893229",
     "exception": false,
     "start_time": "2021-12-08T22:52:15.822028",
     "status": "completed"
    },
    "tags": []
   },
   "outputs": [
    {
     "data": {
      "text/plain": [
       "45062"
      ]
     },
     "execution_count": 5,
     "metadata": {},
     "output_type": "execute_result"
    }
   ],
   "source": [
    "len(dataset_text)"
   ]
  },
  {
   "cell_type": "code",
   "execution_count": 6,
   "id": "72265c34",
   "metadata": {
    "execution": {
     "iopub.execute_input": "2021-12-08T22:52:16.019063Z",
     "iopub.status.busy": "2021-12-08T22:52:16.018413Z",
     "iopub.status.idle": "2021-12-08T22:52:16.022552Z",
     "shell.execute_reply": "2021-12-08T22:52:16.023102Z",
     "shell.execute_reply.started": "2021-12-08T22:43:48.857411Z"
    },
    "papermill": {
     "duration": 0.068489,
     "end_time": "2021-12-08T22:52:16.023275",
     "exception": false,
     "start_time": "2021-12-08T22:52:15.954786",
     "status": "completed"
    },
    "tags": []
   },
   "outputs": [],
   "source": [
    "vocab = sorted(set(dataset_text))"
   ]
  },
  {
   "cell_type": "code",
   "execution_count": 7,
   "id": "c4551c44",
   "metadata": {
    "execution": {
     "iopub.execute_input": "2021-12-08T22:52:16.149508Z",
     "iopub.status.busy": "2021-12-08T22:52:16.148868Z",
     "iopub.status.idle": "2021-12-08T22:52:16.153357Z",
     "shell.execute_reply": "2021-12-08T22:52:16.153950Z",
     "shell.execute_reply.started": "2021-12-08T22:43:48.865993Z"
    },
    "papermill": {
     "duration": 0.069096,
     "end_time": "2021-12-08T22:52:16.154128",
     "exception": false,
     "start_time": "2021-12-08T22:52:16.085032",
     "status": "completed"
    },
    "tags": []
   },
   "outputs": [
    {
     "name": "stdout",
     "output_type": "stream",
     "text": [
      "95 unique characters\n"
     ]
    }
   ],
   "source": [
    "print('{} unique characters'.format(len(vocab)))"
   ]
  },
  {
   "cell_type": "code",
   "execution_count": 8,
   "id": "e7ec872a",
   "metadata": {
    "execution": {
     "iopub.execute_input": "2021-12-08T22:52:16.239707Z",
     "iopub.status.busy": "2021-12-08T22:52:16.239008Z",
     "iopub.status.idle": "2021-12-08T22:52:16.245044Z",
     "shell.execute_reply": "2021-12-08T22:52:16.245472Z",
     "shell.execute_reply.started": "2021-12-08T22:43:48.874035Z"
    },
    "papermill": {
     "duration": 0.049912,
     "end_time": "2021-12-08T22:52:16.245612",
     "exception": false,
     "start_time": "2021-12-08T22:52:16.195700",
     "status": "completed"
    },
    "tags": []
   },
   "outputs": [
    {
     "data": {
      "text/plain": [
       "['\\t',\n",
       " '\\n',\n",
       " ' ',\n",
       " '!',\n",
       " \"'\",\n",
       " '(',\n",
       " ')',\n",
       " '*',\n",
       " ',',\n",
       " '-',\n",
       " '.',\n",
       " '/',\n",
       " '0',\n",
       " '1',\n",
       " '2',\n",
       " '3',\n",
       " '4',\n",
       " '5',\n",
       " '6',\n",
       " '7',\n",
       " '8',\n",
       " '9',\n",
       " ':',\n",
       " ';',\n",
       " 'A',\n",
       " 'B',\n",
       " 'C',\n",
       " 'D',\n",
       " 'E',\n",
       " 'F',\n",
       " 'G',\n",
       " 'H',\n",
       " 'I',\n",
       " 'J',\n",
       " 'K',\n",
       " 'L',\n",
       " 'M',\n",
       " 'N',\n",
       " 'O',\n",
       " 'P',\n",
       " 'Q',\n",
       " 'R',\n",
       " 'S',\n",
       " 'T',\n",
       " 'U',\n",
       " 'V',\n",
       " 'W',\n",
       " 'Y',\n",
       " '[',\n",
       " ']',\n",
       " '_',\n",
       " 'a',\n",
       " 'b',\n",
       " 'c',\n",
       " 'd',\n",
       " 'e',\n",
       " 'f',\n",
       " 'g',\n",
       " 'h',\n",
       " 'i',\n",
       " 'j',\n",
       " 'k',\n",
       " 'l',\n",
       " 'm',\n",
       " 'n',\n",
       " 'o',\n",
       " 'p',\n",
       " 'q',\n",
       " 'r',\n",
       " 's',\n",
       " 't',\n",
       " 'u',\n",
       " 'v',\n",
       " 'w',\n",
       " 'x',\n",
       " 'y',\n",
       " 'z',\n",
       " '~',\n",
       " 'À',\n",
       " 'Á',\n",
       " 'à',\n",
       " 'á',\n",
       " 'â',\n",
       " 'ã',\n",
       " 'ç',\n",
       " 'é',\n",
       " 'ê',\n",
       " 'í',\n",
       " 'ó',\n",
       " 'ô',\n",
       " 'õ',\n",
       " 'ú',\n",
       " 'ü',\n",
       " '—',\n",
       " '↑']"
      ]
     },
     "execution_count": 8,
     "metadata": {},
     "output_type": "execute_result"
    }
   ],
   "source": [
    "vocab"
   ]
  },
  {
   "cell_type": "markdown",
   "id": "6173c923",
   "metadata": {
    "papermill": {
     "duration": 0.040897,
     "end_time": "2021-12-08T22:52:16.327762",
     "exception": false,
     "start_time": "2021-12-08T22:52:16.286865",
     "status": "completed"
    },
    "tags": []
   },
   "source": [
    "# Mapping text to numbers"
   ]
  },
  {
   "cell_type": "code",
   "execution_count": 9,
   "id": "c63fbf04",
   "metadata": {
    "execution": {
     "iopub.execute_input": "2021-12-08T22:52:16.412876Z",
     "iopub.status.busy": "2021-12-08T22:52:16.412207Z",
     "iopub.status.idle": "2021-12-08T22:52:16.415610Z",
     "shell.execute_reply": "2021-12-08T22:52:16.416048Z",
     "shell.execute_reply.started": "2021-12-08T22:43:48.885181Z"
    },
    "papermill": {
     "duration": 0.047149,
     "end_time": "2021-12-08T22:52:16.416185",
     "exception": false,
     "start_time": "2021-12-08T22:52:16.369036",
     "status": "completed"
    },
    "tags": []
   },
   "outputs": [],
   "source": [
    "char2idx = {char: index for index, char in enumerate(vocab)}"
   ]
  },
  {
   "cell_type": "code",
   "execution_count": 10,
   "id": "6c17935e",
   "metadata": {
    "execution": {
     "iopub.execute_input": "2021-12-08T22:52:16.506354Z",
     "iopub.status.busy": "2021-12-08T22:52:16.505688Z",
     "iopub.status.idle": "2021-12-08T22:52:16.510275Z",
     "shell.execute_reply": "2021-12-08T22:52:16.509859Z",
     "shell.execute_reply.started": "2021-12-08T22:43:48.892397Z"
    },
    "papermill": {
     "duration": 0.052789,
     "end_time": "2021-12-08T22:52:16.510380",
     "exception": false,
     "start_time": "2021-12-08T22:52:16.457591",
     "status": "completed"
    },
    "tags": []
   },
   "outputs": [
    {
     "data": {
      "text/plain": [
       "{'\\t': 0,\n",
       " '\\n': 1,\n",
       " ' ': 2,\n",
       " '!': 3,\n",
       " \"'\": 4,\n",
       " '(': 5,\n",
       " ')': 6,\n",
       " '*': 7,\n",
       " ',': 8,\n",
       " '-': 9,\n",
       " '.': 10,\n",
       " '/': 11,\n",
       " '0': 12,\n",
       " '1': 13,\n",
       " '2': 14,\n",
       " '3': 15,\n",
       " '4': 16,\n",
       " '5': 17,\n",
       " '6': 18,\n",
       " '7': 19,\n",
       " '8': 20,\n",
       " '9': 21,\n",
       " ':': 22,\n",
       " ';': 23,\n",
       " 'A': 24,\n",
       " 'B': 25,\n",
       " 'C': 26,\n",
       " 'D': 27,\n",
       " 'E': 28,\n",
       " 'F': 29,\n",
       " 'G': 30,\n",
       " 'H': 31,\n",
       " 'I': 32,\n",
       " 'J': 33,\n",
       " 'K': 34,\n",
       " 'L': 35,\n",
       " 'M': 36,\n",
       " 'N': 37,\n",
       " 'O': 38,\n",
       " 'P': 39,\n",
       " 'Q': 40,\n",
       " 'R': 41,\n",
       " 'S': 42,\n",
       " 'T': 43,\n",
       " 'U': 44,\n",
       " 'V': 45,\n",
       " 'W': 46,\n",
       " 'Y': 47,\n",
       " '[': 48,\n",
       " ']': 49,\n",
       " '_': 50,\n",
       " 'a': 51,\n",
       " 'b': 52,\n",
       " 'c': 53,\n",
       " 'd': 54,\n",
       " 'e': 55,\n",
       " 'f': 56,\n",
       " 'g': 57,\n",
       " 'h': 58,\n",
       " 'i': 59,\n",
       " 'j': 60,\n",
       " 'k': 61,\n",
       " 'l': 62,\n",
       " 'm': 63,\n",
       " 'n': 64,\n",
       " 'o': 65,\n",
       " 'p': 66,\n",
       " 'q': 67,\n",
       " 'r': 68,\n",
       " 's': 69,\n",
       " 't': 70,\n",
       " 'u': 71,\n",
       " 'v': 72,\n",
       " 'w': 73,\n",
       " 'x': 74,\n",
       " 'y': 75,\n",
       " 'z': 76,\n",
       " '~': 77,\n",
       " 'À': 78,\n",
       " 'Á': 79,\n",
       " 'à': 80,\n",
       " 'á': 81,\n",
       " 'â': 82,\n",
       " 'ã': 83,\n",
       " 'ç': 84,\n",
       " 'é': 85,\n",
       " 'ê': 86,\n",
       " 'í': 87,\n",
       " 'ó': 88,\n",
       " 'ô': 89,\n",
       " 'õ': 90,\n",
       " 'ú': 91,\n",
       " 'ü': 92,\n",
       " '—': 93,\n",
       " '↑': 94}"
      ]
     },
     "execution_count": 10,
     "metadata": {},
     "output_type": "execute_result"
    }
   ],
   "source": [
    "char2idx"
   ]
  },
  {
   "cell_type": "code",
   "execution_count": 11,
   "id": "a9810fe2",
   "metadata": {
    "execution": {
     "iopub.execute_input": "2021-12-08T22:52:16.596032Z",
     "iopub.status.busy": "2021-12-08T22:52:16.595578Z",
     "iopub.status.idle": "2021-12-08T22:52:16.599842Z",
     "shell.execute_reply": "2021-12-08T22:52:16.600225Z",
     "shell.execute_reply.started": "2021-12-08T22:43:48.907530Z"
    },
    "papermill": {
     "duration": 0.048499,
     "end_time": "2021-12-08T22:52:16.600373",
     "exception": false,
     "start_time": "2021-12-08T22:52:16.551874",
     "status": "completed"
    },
    "tags": []
   },
   "outputs": [],
   "source": [
    "idx2char = np.array(vocab)"
   ]
  },
  {
   "cell_type": "code",
   "execution_count": 12,
   "id": "c3225203",
   "metadata": {
    "execution": {
     "iopub.execute_input": "2021-12-08T22:52:16.686056Z",
     "iopub.status.busy": "2021-12-08T22:52:16.685603Z",
     "iopub.status.idle": "2021-12-08T22:52:16.689921Z",
     "shell.execute_reply": "2021-12-08T22:52:16.690331Z",
     "shell.execute_reply.started": "2021-12-08T22:43:48.914018Z"
    },
    "papermill": {
     "duration": 0.048489,
     "end_time": "2021-12-08T22:52:16.690480",
     "exception": false,
     "start_time": "2021-12-08T22:52:16.641991",
     "status": "completed"
    },
    "tags": []
   },
   "outputs": [
    {
     "data": {
      "text/plain": [
       "array(['\\t', '\\n', ' ', '!', \"'\", '(', ')', '*', ',', '-', '.', '/', '0',\n",
       "       '1', '2', '3', '4', '5', '6', '7', '8', '9', ':', ';', 'A', 'B',\n",
       "       'C', 'D', 'E', 'F', 'G', 'H', 'I', 'J', 'K', 'L', 'M', 'N', 'O',\n",
       "       'P', 'Q', 'R', 'S', 'T', 'U', 'V', 'W', 'Y', '[', ']', '_', 'a',\n",
       "       'b', 'c', 'd', 'e', 'f', 'g', 'h', 'i', 'j', 'k', 'l', 'm', 'n',\n",
       "       'o', 'p', 'q', 'r', 's', 't', 'u', 'v', 'w', 'x', 'y', 'z', '~',\n",
       "       'À', 'Á', 'à', 'á', 'â', 'ã', 'ç', 'é', 'ê', 'í', 'ó', 'ô', 'õ',\n",
       "       'ú', 'ü', '—', '↑'], dtype='<U1')"
      ]
     },
     "execution_count": 12,
     "metadata": {},
     "output_type": "execute_result"
    }
   ],
   "source": [
    "idx2char"
   ]
  },
  {
   "cell_type": "code",
   "execution_count": 13,
   "id": "3ce26b47",
   "metadata": {
    "execution": {
     "iopub.execute_input": "2021-12-08T22:52:16.776345Z",
     "iopub.status.busy": "2021-12-08T22:52:16.775839Z",
     "iopub.status.idle": "2021-12-08T22:52:16.781064Z",
     "shell.execute_reply": "2021-12-08T22:52:16.780677Z",
     "shell.execute_reply.started": "2021-12-08T22:43:48.924359Z"
    },
    "papermill": {
     "duration": 0.04977,
     "end_time": "2021-12-08T22:52:16.781176",
     "exception": false,
     "start_time": "2021-12-08T22:52:16.731406",
     "status": "completed"
    },
    "tags": []
   },
   "outputs": [
    {
     "data": {
      "text/plain": [
       "'.'"
      ]
     },
     "execution_count": 13,
     "metadata": {},
     "output_type": "execute_result"
    }
   ],
   "source": [
    "idx2char[10]"
   ]
  },
  {
   "cell_type": "code",
   "execution_count": 14,
   "id": "7180c9e7",
   "metadata": {
    "execution": {
     "iopub.execute_input": "2021-12-08T22:52:16.868745Z",
     "iopub.status.busy": "2021-12-08T22:52:16.868280Z",
     "iopub.status.idle": "2021-12-08T22:52:16.871348Z",
     "shell.execute_reply": "2021-12-08T22:52:16.871716Z",
     "shell.execute_reply.started": "2021-12-08T22:43:48.934473Z"
    },
    "papermill": {
     "duration": 0.049784,
     "end_time": "2021-12-08T22:52:16.871836",
     "exception": false,
     "start_time": "2021-12-08T22:52:16.822052",
     "status": "completed"
    },
    "tags": []
   },
   "outputs": [
    {
     "data": {
      "text/plain": [
       "22"
      ]
     },
     "execution_count": 14,
     "metadata": {},
     "output_type": "execute_result"
    }
   ],
   "source": [
    "char2idx[':']"
   ]
  },
  {
   "cell_type": "code",
   "execution_count": 15,
   "id": "26d46b98",
   "metadata": {
    "execution": {
     "iopub.execute_input": "2021-12-08T22:52:16.961263Z",
     "iopub.status.busy": "2021-12-08T22:52:16.958683Z",
     "iopub.status.idle": "2021-12-08T22:52:16.978054Z",
     "shell.execute_reply": "2021-12-08T22:52:16.978490Z",
     "shell.execute_reply.started": "2021-12-08T22:43:48.944089Z"
    },
    "papermill": {
     "duration": 0.0659,
     "end_time": "2021-12-08T22:52:16.978631",
     "exception": false,
     "start_time": "2021-12-08T22:52:16.912731",
     "status": "completed"
    },
    "tags": []
   },
   "outputs": [],
   "source": [
    "text_as_int = np.array([char2idx[char] for char in dataset_text])"
   ]
  },
  {
   "cell_type": "code",
   "execution_count": 16,
   "id": "13808eb6",
   "metadata": {
    "execution": {
     "iopub.execute_input": "2021-12-08T22:52:17.063369Z",
     "iopub.status.busy": "2021-12-08T22:52:17.062927Z",
     "iopub.status.idle": "2021-12-08T22:52:17.069531Z",
     "shell.execute_reply": "2021-12-08T22:52:17.069887Z",
     "shell.execute_reply.started": "2021-12-08T22:43:48.971339Z"
    },
    "papermill": {
     "duration": 0.050127,
     "end_time": "2021-12-08T22:52:17.070010",
     "exception": false,
     "start_time": "2021-12-08T22:52:17.019883",
     "status": "completed"
    },
    "tags": []
   },
   "outputs": [
    {
     "data": {
      "text/plain": [
       "array([26, 51, 68, ...,  1,  1,  1])"
      ]
     },
     "execution_count": 16,
     "metadata": {},
     "output_type": "execute_result"
    }
   ],
   "source": [
    "text_as_int"
   ]
  },
  {
   "cell_type": "code",
   "execution_count": 17,
   "id": "c9febf7d",
   "metadata": {
    "execution": {
     "iopub.execute_input": "2021-12-08T22:52:17.157365Z",
     "iopub.status.busy": "2021-12-08T22:52:17.156899Z",
     "iopub.status.idle": "2021-12-08T22:52:17.159435Z",
     "shell.execute_reply": "2021-12-08T22:52:17.159885Z",
     "shell.execute_reply.started": "2021-12-08T22:43:48.979738Z"
    },
    "papermill": {
     "duration": 0.049106,
     "end_time": "2021-12-08T22:52:17.160001",
     "exception": false,
     "start_time": "2021-12-08T22:52:17.110895",
     "status": "completed"
    },
    "tags": []
   },
   "outputs": [
    {
     "data": {
      "text/plain": [
       "(45062,)"
      ]
     },
     "execution_count": 17,
     "metadata": {},
     "output_type": "execute_result"
    }
   ],
   "source": [
    "text_as_int.shape"
   ]
  },
  {
   "cell_type": "code",
   "execution_count": 18,
   "id": "cb201b6d",
   "metadata": {
    "execution": {
     "iopub.execute_input": "2021-12-08T22:52:17.245899Z",
     "iopub.status.busy": "2021-12-08T22:52:17.245440Z",
     "iopub.status.idle": "2021-12-08T22:52:17.250358Z",
     "shell.execute_reply": "2021-12-08T22:52:17.249909Z",
     "shell.execute_reply.started": "2021-12-08T22:43:48.988202Z"
    },
    "papermill": {
     "duration": 0.048828,
     "end_time": "2021-12-08T22:52:17.250492",
     "exception": false,
     "start_time": "2021-12-08T22:52:17.201664",
     "status": "completed"
    },
    "tags": []
   },
   "outputs": [
    {
     "name": "stdout",
     "output_type": "stream",
     "text": [
      "'Carta de Pero' characters mapped to int ---> [26 51 68 70 51  2 54 55  2 39 55 68 65]\n"
     ]
    }
   ],
   "source": [
    "print('{} characters mapped to int ---> {}'.format(repr(dataset_text[:13]), text_as_int[:13]))"
   ]
  },
  {
   "cell_type": "markdown",
   "id": "409df276",
   "metadata": {
    "papermill": {
     "duration": 0.041145,
     "end_time": "2021-12-08T22:52:17.332782",
     "exception": false,
     "start_time": "2021-12-08T22:52:17.291637",
     "status": "completed"
    },
    "tags": []
   },
   "source": [
    "# Creation of training examples and batches"
   ]
  },
  {
   "cell_type": "code",
   "execution_count": 19,
   "id": "003cceba",
   "metadata": {
    "execution": {
     "iopub.execute_input": "2021-12-08T22:52:17.418104Z",
     "iopub.status.busy": "2021-12-08T22:52:17.417685Z",
     "iopub.status.idle": "2021-12-08T22:52:17.424549Z",
     "shell.execute_reply": "2021-12-08T22:52:17.423913Z",
     "shell.execute_reply.started": "2021-12-08T22:43:48.996757Z"
    },
    "papermill": {
     "duration": 0.050776,
     "end_time": "2021-12-08T22:52:17.424696",
     "exception": false,
     "start_time": "2021-12-08T22:52:17.373920",
     "status": "completed"
    },
    "tags": []
   },
   "outputs": [
    {
     "data": {
      "text/plain": [
       "45062"
      ]
     },
     "execution_count": 19,
     "metadata": {},
     "output_type": "execute_result"
    }
   ],
   "source": [
    "len(dataset_text)"
   ]
  },
  {
   "cell_type": "code",
   "execution_count": 20,
   "id": "a1ec66e2",
   "metadata": {
    "execution": {
     "iopub.execute_input": "2021-12-08T22:52:17.558867Z",
     "iopub.status.busy": "2021-12-08T22:52:17.558260Z",
     "iopub.status.idle": "2021-12-08T22:52:17.563294Z",
     "shell.execute_reply": "2021-12-08T22:52:17.563813Z",
     "shell.execute_reply.started": "2021-12-08T22:43:49.005735Z"
    },
    "papermill": {
     "duration": 0.073292,
     "end_time": "2021-12-08T22:52:17.563956",
     "exception": false,
     "start_time": "2021-12-08T22:52:17.490664",
     "status": "completed"
    },
    "tags": []
   },
   "outputs": [
    {
     "data": {
      "text/plain": [
       "450"
      ]
     },
     "execution_count": 20,
     "metadata": {},
     "output_type": "execute_result"
    }
   ],
   "source": [
    "seq_length = 100\n",
    "examples_per_epoch = len(dataset_text) // seq_length\n",
    "examples_per_epoch"
   ]
  },
  {
   "cell_type": "code",
   "execution_count": 21,
   "id": "c590ac4d",
   "metadata": {
    "execution": {
     "iopub.execute_input": "2021-12-08T22:52:17.715746Z",
     "iopub.status.busy": "2021-12-08T22:52:17.702996Z",
     "iopub.status.idle": "2021-12-08T22:52:17.741849Z",
     "shell.execute_reply": "2021-12-08T22:52:17.742352Z",
     "shell.execute_reply.started": "2021-12-08T22:43:49.014759Z"
    },
    "papermill": {
     "duration": 0.113637,
     "end_time": "2021-12-08T22:52:17.742534",
     "exception": false,
     "start_time": "2021-12-08T22:52:17.628897",
     "status": "completed"
    },
    "tags": []
   },
   "outputs": [
    {
     "name": "stderr",
     "output_type": "stream",
     "text": [
      "\n",
      "User settings:\n",
      "\n",
      "   KMP_AFFINITY=granularity=fine,verbose,compact,1,0\n",
      "   KMP_BLOCKTIME=0\n",
      "   KMP_SETTINGS=1\n",
      "   KMP_WARNINGS=0\n",
      "\n",
      "Effective settings:\n",
      "\n",
      "   KMP_ABORT_DELAY=0\n",
      "   KMP_ADAPTIVE_LOCK_PROPS='1,1024'\n",
      "   KMP_ALIGN_ALLOC=64\n",
      "   KMP_ALL_THREADPRIVATE=128\n",
      "   KMP_ATOMIC_MODE=2\n",
      "   KMP_BLOCKTIME=0\n",
      "   KMP_CPUINFO_FILE: value is not defined\n",
      "   KMP_DETERMINISTIC_REDUCTION=false\n",
      "   KMP_DEVICE_THREAD_LIMIT=2147483647\n",
      "   KMP_DISP_NUM_BUFFERS=7\n",
      "   KMP_DUPLICATE_LIB_OK=false\n",
      "   KMP_ENABLE_TASK_THROTTLING=true\n",
      "   KMP_FORCE_REDUCTION: value is not defined\n",
      "   KMP_FOREIGN_THREADS_THREADPRIVATE=true\n",
      "   KMP_FORKJOIN_BARRIER='2,2'\n",
      "   KMP_FORKJOIN_BARRIER_PATTERN='hyper,hyper'\n",
      "   KMP_GTID_MODE=3\n",
      "   KMP_HANDLE_SIGNALS=false\n",
      "   KMP_HOT_TEAMS_MAX_LEVEL=1\n",
      "   KMP_HOT_TEAMS_MODE=0\n",
      "   KMP_INIT_AT_FORK=true\n",
      "   KMP_LIBRARY=throughput\n",
      "   KMP_LOCK_KIND=queuing\n",
      "   KMP_MALLOC_POOL_INCR=1M\n",
      "   KMP_NUM_LOCKS_IN_BLOCK=1\n",
      "   KMP_PLAIN_BARRIER='2,2'\n",
      "   KMP_PLAIN_BARRIER_PATTERN='hyper,hyper'\n",
      "   KMP_REDUCTION_BARRIER='1,1'\n",
      "   KMP_REDUCTION_BARRIER_PATTERN='hyper,hyper'\n",
      "   KMP_SCHEDULE='static,balanced;guided,iterative'\n",
      "   KMP_SETTINGS=true\n",
      "   KMP_SPIN_BACKOFF_PARAMS='4096,100'\n",
      "   KMP_STACKOFFSET=64\n",
      "   KMP_STACKPAD=0\n",
      "   KMP_STACKSIZE=8M\n",
      "   KMP_STORAGE_MAP=false\n",
      "   KMP_TASKING=2\n",
      "   KMP_TASKLOOP_MIN_TASKS=0\n",
      "   KMP_TASK_STEALING_CONSTRAINT=1\n",
      "   KMP_TEAMS_THREAD_LIMIT=4\n",
      "   KMP_TOPOLOGY_METHOD=all\n",
      "   KMP_USE_YIELD=1\n",
      "   KMP_VERSION=false\n",
      "   KMP_WARNINGS=false\n",
      "   OMP_AFFINITY_FORMAT='OMP: pid %P tid %i thread %n bound to OS proc set {%A}'\n",
      "   OMP_ALLOCATOR=omp_default_mem_alloc\n",
      "   OMP_CANCELLATION=false\n",
      "   OMP_DEFAULT_DEVICE=0\n",
      "   OMP_DISPLAY_AFFINITY=false\n",
      "   OMP_DISPLAY_ENV=false\n",
      "   OMP_DYNAMIC=false\n",
      "   OMP_MAX_ACTIVE_LEVELS=1\n",
      "   OMP_MAX_TASK_PRIORITY=0\n",
      "   OMP_NESTED: deprecated; max-active-levels-var=1\n",
      "   OMP_NUM_THREADS: value is not defined\n",
      "   OMP_PLACES: value is not defined\n",
      "   OMP_PROC_BIND='intel'\n",
      "   OMP_SCHEDULE='static'\n",
      "   OMP_STACKSIZE=8M\n",
      "   OMP_TARGET_OFFLOAD=DEFAULT\n",
      "   OMP_THREAD_LIMIT=2147483647\n",
      "   OMP_WAIT_POLICY=PASSIVE\n",
      "   KMP_AFFINITY='verbose,warnings,respect,granularity=fine,compact,1,0'\n",
      "\n",
      "2021-12-08 22:52:17.712367: I tensorflow/core/common_runtime/process_util.cc:146] Creating new thread pool with default inter op setting: 2. Tune using inter_op_parallelism_threads for best performance.\n"
     ]
    }
   ],
   "source": [
    "char_dataset = tf.data.Dataset.from_tensor_slices(text_as_int)"
   ]
  },
  {
   "cell_type": "code",
   "execution_count": 22,
   "id": "81cb12d8",
   "metadata": {
    "execution": {
     "iopub.execute_input": "2021-12-08T22:52:17.831503Z",
     "iopub.status.busy": "2021-12-08T22:52:17.831037Z",
     "iopub.status.idle": "2021-12-08T22:52:17.839097Z",
     "shell.execute_reply": "2021-12-08T22:52:17.839496Z",
     "shell.execute_reply.started": "2021-12-08T22:43:49.023478Z"
    },
    "papermill": {
     "duration": 0.053865,
     "end_time": "2021-12-08T22:52:17.839618",
     "exception": false,
     "start_time": "2021-12-08T22:52:17.785753",
     "status": "completed"
    },
    "tags": []
   },
   "outputs": [
    {
     "data": {
      "text/plain": [
       "<TensorSliceDataset shapes: (), types: tf.int64>"
      ]
     },
     "execution_count": 22,
     "metadata": {},
     "output_type": "execute_result"
    }
   ],
   "source": [
    "char_dataset"
   ]
  },
  {
   "cell_type": "code",
   "execution_count": 23,
   "id": "9d20a8d3",
   "metadata": {
    "execution": {
     "iopub.execute_input": "2021-12-08T22:52:17.928123Z",
     "iopub.status.busy": "2021-12-08T22:52:17.927683Z",
     "iopub.status.idle": "2021-12-08T22:52:17.931989Z",
     "shell.execute_reply": "2021-12-08T22:52:17.932345Z",
     "shell.execute_reply.started": "2021-12-08T22:43:49.032277Z"
    },
    "papermill": {
     "duration": 0.049899,
     "end_time": "2021-12-08T22:52:17.932500",
     "exception": false,
     "start_time": "2021-12-08T22:52:17.882601",
     "status": "completed"
    },
    "tags": []
   },
   "outputs": [],
   "source": [
    "sequences = char_dataset.batch(seq_length + 1, drop_remainder=True)"
   ]
  },
  {
   "cell_type": "code",
   "execution_count": 24,
   "id": "d9942d33",
   "metadata": {
    "execution": {
     "iopub.execute_input": "2021-12-08T22:52:18.020691Z",
     "iopub.status.busy": "2021-12-08T22:52:18.020232Z",
     "iopub.status.idle": "2021-12-08T22:52:18.025043Z",
     "shell.execute_reply": "2021-12-08T22:52:18.025433Z",
     "shell.execute_reply.started": "2021-12-08T22:43:49.040005Z"
    },
    "papermill": {
     "duration": 0.050472,
     "end_time": "2021-12-08T22:52:18.025569",
     "exception": false,
     "start_time": "2021-12-08T22:52:17.975097",
     "status": "completed"
    },
    "tags": []
   },
   "outputs": [
    {
     "data": {
      "text/plain": [
       "<BatchDataset shapes: (101,), types: tf.int64>"
      ]
     },
     "execution_count": 24,
     "metadata": {},
     "output_type": "execute_result"
    }
   ],
   "source": [
    "sequences"
   ]
  },
  {
   "cell_type": "code",
   "execution_count": 25,
   "id": "79014e22",
   "metadata": {
    "execution": {
     "iopub.execute_input": "2021-12-08T22:52:18.116647Z",
     "iopub.status.busy": "2021-12-08T22:52:18.116120Z",
     "iopub.status.idle": "2021-12-08T22:52:18.179034Z",
     "shell.execute_reply": "2021-12-08T22:52:18.178408Z",
     "shell.execute_reply.started": "2021-12-08T22:43:49.049714Z"
    },
    "papermill": {
     "duration": 0.110771,
     "end_time": "2021-12-08T22:52:18.179173",
     "exception": false,
     "start_time": "2021-12-08T22:52:18.068402",
     "status": "completed"
    },
    "tags": []
   },
   "outputs": [
    {
     "name": "stdout",
     "output_type": "stream",
     "text": [
      "'Carta de Pero Vaz de Caminha\\n\\n\\n\\t\\t\\t\\t\\tPero Vaz de Caminha\\n\\n\\n\\n\\n\\nConteúdo exportado da wiki Wikisource em'\n",
      "' 8 de dezembro de 2021\\n\\n\\n\\n\\n\\nSenhor,\\n\\nposto que o Capitão-mor desta Vossa frota, e assim os outros cap'\n",
      "'itães escrevam a Vossa Alteza a nova do achamento desta Vossa terra nova, que se agora nesta navegaçã'\n",
      "'o achou, não deixarei de também dar disso minha conta a Vossa Alteza, assim como eu melhor puder, ain'\n",
      "'da que — para o bem contar e falar — o saiba pior que todos fazer!\\n\\nTodavia tome Vossa Alteza minha i'\n",
      "'gnorância por boa vontade, a qual bem certo creia que, para aformosentar nem afear, aqui não há de pô'\n",
      "'r mais do que aquilo que vi e me pareceu.\\n\\nDa marinhagem e das singraduras do caminho não darei aqui '\n",
      "'conta a Vossa Alteza — porque o não saberei fazer — e os pilotos devem ter este cuidado.\\n\\nE portanto,'\n",
      "' Senhor, do que hei de falar começo:\\n\\nE digo quê:\\n\\nA partida de Belém foi, como Vossa Alteza sabe, se'\n",
      "'gunda-feira 9 de Março. E sábado, 14 do dito mês, entre as 8 e 9 horas, nos achamos entre as Canárias'\n",
      "', mais perto da Grande Canária. E ali andamos todo aquele dia em calma, à vista delas, obra de três a'\n",
      "' quatro léguas. E domingo, 22 do dito mês, às dez horas mais ou menos, houvemos vista das ilhas de Ca'\n",
      "'bo Verde, a saber da ilha de São Nicolau, segundo o dito de Pero Escolar, piloto.\\n\\nNa noite seguinte '\n",
      "'à segunda-feira amanheceu, se perdeu da frota Vasco de Ataíde com a sua nau, sem haver tempo forte ou'\n",
      "' contrário para poder ser!\\n\\nFez o capitão suas diligências para o achar, em umas e outras partes. Mas'\n",
      "'... não apareceu mais!\\n\\nE assim seguimos nosso caminho, por este mar de longo, até que terça-feira da'\n",
      "'s Oitavas de Páscoa, que foram 21 dias de abril, topamos alguns sinais de terra, estando da dita Ilha'\n",
      "' — segundo os pilotos diziam, obra de 660 ou 670 léguas — os quais eram muita quantidade de ervas com'\n",
      "'pridas, a que os mareantes chamam botelho, e assim mesmo outras a que dão o nome de rabo-de-asno. E q'\n",
      "'uarta-feira seguinte, pela manhã, topamos aves a que chamam furabuchos.\\n\\nNeste mesmo dia, a horas de '\n",
      "'véspera, houvemos vista de terra! A saber, primeiramente de um grande monte, muito alto e redondo; e '\n",
      "'de outras serras mais baixas ao sul dele; e de terra chã, com grandes arvoredos; ao qual monte alto o'\n",
      "' capitão pôs o nome de O Monte Pascoal e à terra A Terra de Vera Cruz! Mandou lançar o prumo. Acharam'\n",
      "' vinte e cinco braças. E ao sol-posto umas seis léguas da terra, lançamos ancoras, em dezenove braças'\n",
      "' — ancoragem limpa. Ali ficamo-nos toda aquela noite. E quinta-feira, pela manhã, fizemos vela e segu'\n",
      "'imos em direitura à terra, indo os navios pequenos diante — por dezessete, dezesseis, quinze, catorze'\n",
      "', doze, nove braças — até meia légua da terra, onde todos lançamos ancoras, em frente da boca de um r'\n",
      "'io. E chegaríamos a esta ancoragem às dez horas, pouco mais ou menos.\\n\\nE dali avistamos homens que an'\n",
      "'davam pela praia, uns sete ou oito, segundo disseram os navios pequenos que chegaram primeiro.\\n\\nEntão'\n",
      "' lançamos fora os batéis e esquifes. E logo vieram todos os capitães das naus a esta nau do Capitão-m'\n",
      "'or. E ali falaram. E o Capitão mandou em terra a Nicolau Coelho para ver aquele rio. E tanto que ele '\n",
      "'começou a ir-se para lá, acudiram pela praia homens aos dois e aos três, de maneira que, quando o bat'\n",
      "'el chegou à boca do rio, já lá estavam dezoito ou vinte.\\n\\nPardos, nus, sem coisa alguma que lhes cobr'\n",
      "'isse suas vergonhas. Traziam arcos nas mãos, e suas setas. Vinham todos rijamente em direção ao batel'\n",
      "'. E Nicolau Coelho lhes fez sinal que pousassem os arcos. E eles os depuseram. Mas não pôde deles hav'\n",
      "'er fala nem entendimento que aproveitasse, por o mar quebrar na costa. Somente arremessou-lhe um barr'\n",
      "'ete vermelho e uma carapuça de linho que levava na cabeça, e um sombreiro preto. E um deles lhe arrem'\n",
      "'essou um sombreiro de penas de ave, compridas, com uma copazinha de penas vermelhas e pardas, como de'\n",
      "' papagaio. E outro lhe deu um ramal grande de continhas brancas, miúdas que querem parecer de aljôfar'\n",
      "', as quais peças creio que o Capitão manda a Vossa Alteza. E com isto se volveu às naus por ser tarde'\n",
      "' e não poder haver deles mais fala, por causa do mar.\\n\\nÀ noite seguinte ventou tanto sueste com chuva'\n",
      "'ceiros que fez caçar as naus. E especialmente a Capitaina. E sexta pela manhã, às oito horas, pouco m'\n",
      "'ais ou menos, por conselho dos pilotos, mandou o Capitão levantar ancoras e fazer vela. E fomos de lo'\n",
      "'ngo da costa, com os batéis e esquifes amarrados na popa, em direção norte, para ver se achávamos alg'\n",
      "'uma abrigada e bom pouso, onde nós ficássemos, para tomar água e lenha. Não por nos já minguar, mas p'\n",
      "'or nos prevenirmos aqui. E quando fizemos vela estariam já na praia assentados perto do rio obra de s'\n",
      "'essenta ou setenta homens que se haviam juntado ali aos poucos. Fomos ao longo, e mandou o Capitão ao'\n",
      "'s navios pequenos que fossem mais chegados à terra e, se achassem pouso seguro para as naus, que amai'\n",
      "'nassem.\\n\\nE velejando nós pela costa, na distância de dez léguas do sítio onde tínhamos levantado ferr'\n",
      "'o, acharam os ditos navios pequenos um recife com um porto dentro, muito bom e muito seguro, com uma '\n"
     ]
    }
   ],
   "source": [
    "for item in sequences.take(50):\n",
    "  print(repr(''.join(idx2char[item.numpy()])))"
   ]
  },
  {
   "cell_type": "code",
   "execution_count": 26,
   "id": "f228b0a0",
   "metadata": {
    "execution": {
     "iopub.execute_input": "2021-12-08T22:52:18.270759Z",
     "iopub.status.busy": "2021-12-08T22:52:18.270317Z",
     "iopub.status.idle": "2021-12-08T22:52:18.275709Z",
     "shell.execute_reply": "2021-12-08T22:52:18.275323Z",
     "shell.execute_reply.started": "2021-12-08T22:43:49.097567Z"
    },
    "papermill": {
     "duration": 0.051937,
     "end_time": "2021-12-08T22:52:18.275809",
     "exception": false,
     "start_time": "2021-12-08T22:52:18.223872",
     "status": "completed"
    },
    "tags": []
   },
   "outputs": [],
   "source": [
    "def split_input_target(chunk):\n",
    "  input_text = chunk[:-1]\n",
    "  target_text = chunk[1:]\n",
    "  return input_text, target_text"
   ]
  },
  {
   "cell_type": "code",
   "execution_count": 27,
   "id": "e661e024",
   "metadata": {
    "execution": {
     "iopub.execute_input": "2021-12-08T22:52:18.366367Z",
     "iopub.status.busy": "2021-12-08T22:52:18.365933Z",
     "iopub.status.idle": "2021-12-08T22:52:18.668867Z",
     "shell.execute_reply": "2021-12-08T22:52:18.669222Z",
     "shell.execute_reply.started": "2021-12-08T22:43:49.104502Z"
    },
    "papermill": {
     "duration": 0.350179,
     "end_time": "2021-12-08T22:52:18.669358",
     "exception": false,
     "start_time": "2021-12-08T22:52:18.319179",
     "status": "completed"
    },
    "tags": []
   },
   "outputs": [],
   "source": [
    "dataset = sequences.map(split_input_target)"
   ]
  },
  {
   "cell_type": "code",
   "execution_count": 28,
   "id": "f0d9ccfe",
   "metadata": {
    "execution": {
     "iopub.execute_input": "2021-12-08T22:52:18.764279Z",
     "iopub.status.busy": "2021-12-08T22:52:18.763790Z",
     "iopub.status.idle": "2021-12-08T22:52:18.831997Z",
     "shell.execute_reply": "2021-12-08T22:52:18.831580Z",
     "shell.execute_reply.started": "2021-12-08T22:43:49.130015Z"
    },
    "papermill": {
     "duration": 0.118231,
     "end_time": "2021-12-08T22:52:18.832096",
     "exception": false,
     "start_time": "2021-12-08T22:52:18.713865",
     "status": "completed"
    },
    "tags": []
   },
   "outputs": [
    {
     "name": "stdout",
     "output_type": "stream",
     "text": [
      "Input data: 'Carta de Pero Vaz de Caminha\\n\\n\\n\\t\\t\\t\\t\\tPero Vaz de Caminha\\n\\n\\n\\n\\n\\nConteúdo exportado da wiki Wikisource e'\n",
      "Target data: 'arta de Pero Vaz de Caminha\\n\\n\\n\\t\\t\\t\\t\\tPero Vaz de Caminha\\n\\n\\n\\n\\n\\nConteúdo exportado da wiki Wikisource em'\n",
      "Input data: ' 8 de dezembro de 2021\\n\\n\\n\\n\\n\\nSenhor,\\n\\nposto que o Capitão-mor desta Vossa frota, e assim os outros ca'\n",
      "Target data: '8 de dezembro de 2021\\n\\n\\n\\n\\n\\nSenhor,\\n\\nposto que o Capitão-mor desta Vossa frota, e assim os outros cap'\n",
      "Input data: 'itães escrevam a Vossa Alteza a nova do achamento desta Vossa terra nova, que se agora nesta navegaç'\n",
      "Target data: 'tães escrevam a Vossa Alteza a nova do achamento desta Vossa terra nova, que se agora nesta navegaçã'\n",
      "Input data: 'o achou, não deixarei de também dar disso minha conta a Vossa Alteza, assim como eu melhor puder, ai'\n",
      "Target data: ' achou, não deixarei de também dar disso minha conta a Vossa Alteza, assim como eu melhor puder, ain'\n",
      "Input data: 'da que — para o bem contar e falar — o saiba pior que todos fazer!\\n\\nTodavia tome Vossa Alteza minha '\n",
      "Target data: 'a que — para o bem contar e falar — o saiba pior que todos fazer!\\n\\nTodavia tome Vossa Alteza minha i'\n",
      "Input data: 'gnorância por boa vontade, a qual bem certo creia que, para aformosentar nem afear, aqui não há de p'\n",
      "Target data: 'norância por boa vontade, a qual bem certo creia que, para aformosentar nem afear, aqui não há de pô'\n",
      "Input data: 'r mais do que aquilo que vi e me pareceu.\\n\\nDa marinhagem e das singraduras do caminho não darei aqui'\n",
      "Target data: ' mais do que aquilo que vi e me pareceu.\\n\\nDa marinhagem e das singraduras do caminho não darei aqui '\n",
      "Input data: 'conta a Vossa Alteza — porque o não saberei fazer — e os pilotos devem ter este cuidado.\\n\\nE portanto'\n",
      "Target data: 'onta a Vossa Alteza — porque o não saberei fazer — e os pilotos devem ter este cuidado.\\n\\nE portanto,'\n",
      "Input data: ' Senhor, do que hei de falar começo:\\n\\nE digo quê:\\n\\nA partida de Belém foi, como Vossa Alteza sabe, s'\n",
      "Target data: 'Senhor, do que hei de falar começo:\\n\\nE digo quê:\\n\\nA partida de Belém foi, como Vossa Alteza sabe, se'\n",
      "Input data: 'gunda-feira 9 de Março. E sábado, 14 do dito mês, entre as 8 e 9 horas, nos achamos entre as Canária'\n",
      "Target data: 'unda-feira 9 de Março. E sábado, 14 do dito mês, entre as 8 e 9 horas, nos achamos entre as Canárias'\n"
     ]
    },
    {
     "name": "stderr",
     "output_type": "stream",
     "text": [
      "2021-12-08 22:52:18.777217: I tensorflow/compiler/mlir/mlir_graph_optimization_pass.cc:185] None of the MLIR Optimization Passes are enabled (registered 2)\n"
     ]
    }
   ],
   "source": [
    "for input_example, target_example in dataset.take(10):\n",
    "  print('Input data:', repr(''.join(idx2char[input_example.numpy()])))\n",
    "  print('Target data:', repr(''.join(idx2char[target_example.numpy()])))"
   ]
  },
  {
   "cell_type": "code",
   "execution_count": 29,
   "id": "6ae2ed9c",
   "metadata": {
    "execution": {
     "iopub.execute_input": "2021-12-08T22:52:18.924366Z",
     "iopub.status.busy": "2021-12-08T22:52:18.923897Z",
     "iopub.status.idle": "2021-12-08T22:52:18.926785Z",
     "shell.execute_reply": "2021-12-08T22:52:18.927141Z",
     "shell.execute_reply.started": "2021-12-08T22:43:49.172810Z"
    },
    "papermill": {
     "duration": 0.050169,
     "end_time": "2021-12-08T22:52:18.927255",
     "exception": false,
     "start_time": "2021-12-08T22:52:18.877086",
     "status": "completed"
    },
    "tags": []
   },
   "outputs": [],
   "source": [
    "batch_size = 64\n",
    "buffer_size = 10000"
   ]
  },
  {
   "cell_type": "code",
   "execution_count": 30,
   "id": "0ae54b93",
   "metadata": {
    "execution": {
     "iopub.execute_input": "2021-12-08T22:52:19.021865Z",
     "iopub.status.busy": "2021-12-08T22:52:19.021359Z",
     "iopub.status.idle": "2021-12-08T22:52:19.028707Z",
     "shell.execute_reply": "2021-12-08T22:52:19.029170Z",
     "shell.execute_reply.started": "2021-12-08T22:43:49.179856Z"
    },
    "papermill": {
     "duration": 0.056606,
     "end_time": "2021-12-08T22:52:19.029310",
     "exception": false,
     "start_time": "2021-12-08T22:52:18.972704",
     "status": "completed"
    },
    "tags": []
   },
   "outputs": [],
   "source": [
    "dataset = dataset.shuffle(buffer_size).batch(batch_size, drop_remainder = True)"
   ]
  },
  {
   "cell_type": "code",
   "execution_count": 31,
   "id": "a65e4d11",
   "metadata": {
    "execution": {
     "iopub.execute_input": "2021-12-08T22:52:19.126712Z",
     "iopub.status.busy": "2021-12-08T22:52:19.126074Z",
     "iopub.status.idle": "2021-12-08T22:52:19.129532Z",
     "shell.execute_reply": "2021-12-08T22:52:19.129880Z",
     "shell.execute_reply.started": "2021-12-08T22:43:49.190750Z"
    },
    "papermill": {
     "duration": 0.054639,
     "end_time": "2021-12-08T22:52:19.130014",
     "exception": false,
     "start_time": "2021-12-08T22:52:19.075375",
     "status": "completed"
    },
    "tags": []
   },
   "outputs": [
    {
     "data": {
      "text/plain": [
       "<BatchDataset shapes: ((64, 100), (64, 100)), types: (tf.int64, tf.int64)>"
      ]
     },
     "execution_count": 31,
     "metadata": {},
     "output_type": "execute_result"
    }
   ],
   "source": [
    "dataset"
   ]
  },
  {
   "cell_type": "markdown",
   "id": "c43f9e44",
   "metadata": {
    "papermill": {
     "duration": 0.04394,
     "end_time": "2021-12-08T22:52:19.218309",
     "exception": false,
     "start_time": "2021-12-08T22:52:19.174369",
     "status": "completed"
    },
    "tags": []
   },
   "source": [
    "# Model building"
   ]
  },
  {
   "cell_type": "code",
   "execution_count": 32,
   "id": "defbd9cb",
   "metadata": {
    "execution": {
     "iopub.execute_input": "2021-12-08T22:52:19.312834Z",
     "iopub.status.busy": "2021-12-08T22:52:19.309984Z",
     "iopub.status.idle": "2021-12-08T22:52:19.315894Z",
     "shell.execute_reply": "2021-12-08T22:52:19.316331Z",
     "shell.execute_reply.started": "2021-12-08T22:43:49.200646Z"
    },
    "papermill": {
     "duration": 0.053484,
     "end_time": "2021-12-08T22:52:19.316474",
     "exception": false,
     "start_time": "2021-12-08T22:52:19.262990",
     "status": "completed"
    },
    "tags": []
   },
   "outputs": [
    {
     "data": {
      "text/plain": [
       "95"
      ]
     },
     "execution_count": 32,
     "metadata": {},
     "output_type": "execute_result"
    }
   ],
   "source": [
    "len(vocab)"
   ]
  },
  {
   "cell_type": "code",
   "execution_count": 33,
   "id": "73ccccef",
   "metadata": {
    "execution": {
     "iopub.execute_input": "2021-12-08T22:52:19.413089Z",
     "iopub.status.busy": "2021-12-08T22:52:19.412634Z",
     "iopub.status.idle": "2021-12-08T22:52:19.414380Z",
     "shell.execute_reply": "2021-12-08T22:52:19.414815Z",
     "shell.execute_reply.started": "2021-12-08T22:43:49.209770Z"
    },
    "papermill": {
     "duration": 0.053343,
     "end_time": "2021-12-08T22:52:19.414943",
     "exception": false,
     "start_time": "2021-12-08T22:52:19.361600",
     "status": "completed"
    },
    "tags": []
   },
   "outputs": [],
   "source": [
    "vocab_size = len(vocab)"
   ]
  },
  {
   "cell_type": "code",
   "execution_count": 34,
   "id": "504fd8d0",
   "metadata": {
    "execution": {
     "iopub.execute_input": "2021-12-08T22:52:19.508511Z",
     "iopub.status.busy": "2021-12-08T22:52:19.508055Z",
     "iopub.status.idle": "2021-12-08T22:52:19.510423Z",
     "shell.execute_reply": "2021-12-08T22:52:19.510857Z",
     "shell.execute_reply.started": "2021-12-08T22:43:49.216700Z"
    },
    "papermill": {
     "duration": 0.051138,
     "end_time": "2021-12-08T22:52:19.510966",
     "exception": false,
     "start_time": "2021-12-08T22:52:19.459828",
     "status": "completed"
    },
    "tags": []
   },
   "outputs": [],
   "source": [
    "embedding_dim = 256"
   ]
  },
  {
   "cell_type": "code",
   "execution_count": 35,
   "id": "35f7a22a",
   "metadata": {
    "execution": {
     "iopub.execute_input": "2021-12-08T22:52:19.604327Z",
     "iopub.status.busy": "2021-12-08T22:52:19.603898Z",
     "iopub.status.idle": "2021-12-08T22:52:19.606669Z",
     "shell.execute_reply": "2021-12-08T22:52:19.607077Z",
     "shell.execute_reply.started": "2021-12-08T22:43:49.224515Z"
    },
    "papermill": {
     "duration": 0.05076,
     "end_time": "2021-12-08T22:52:19.607203",
     "exception": false,
     "start_time": "2021-12-08T22:52:19.556443",
     "status": "completed"
    },
    "tags": []
   },
   "outputs": [],
   "source": [
    "rnn_units = 1024"
   ]
  },
  {
   "cell_type": "code",
   "execution_count": 36,
   "id": "8d02973f",
   "metadata": {
    "execution": {
     "iopub.execute_input": "2021-12-08T22:52:19.699026Z",
     "iopub.status.busy": "2021-12-08T22:52:19.698618Z",
     "iopub.status.idle": "2021-12-08T22:52:19.705722Z",
     "shell.execute_reply": "2021-12-08T22:52:19.706135Z",
     "shell.execute_reply.started": "2021-12-08T22:43:49.234922Z"
    },
    "papermill": {
     "duration": 0.054789,
     "end_time": "2021-12-08T22:52:19.706264",
     "exception": false,
     "start_time": "2021-12-08T22:52:19.651475",
     "status": "completed"
    },
    "tags": []
   },
   "outputs": [],
   "source": [
    "def build_model(vocab_size, embedding_dim, rnn_units, batch_size):\n",
    "  model = tf.keras.Sequential([tf.keras.layers.Embedding(vocab_size, embedding_dim, batch_input_shape=[batch_size, None]),\n",
    "                               tf.keras.layers.LSTM(rnn_units, return_sequences=True, stateful=True, recurrent_initializer='glorot_uniform'),\n",
    "                               tf.keras.layers.LSTM(rnn_units, return_sequences=True, stateful=True, recurrent_initializer='glorot_uniform'),\n",
    "                               tf.keras.layers.LSTM(rnn_units, return_sequences=True, stateful=True, recurrent_initializer='glorot_uniform'), \n",
    "                               tf.keras.layers.Dense(vocab_size)])\n",
    "  return model"
   ]
  },
  {
   "cell_type": "code",
   "execution_count": 37,
   "id": "f3bcab71",
   "metadata": {
    "execution": {
     "iopub.execute_input": "2021-12-08T22:52:19.796874Z",
     "iopub.status.busy": "2021-12-08T22:52:19.796435Z",
     "iopub.status.idle": "2021-12-08T22:52:21.372481Z",
     "shell.execute_reply": "2021-12-08T22:52:21.373026Z",
     "shell.execute_reply.started": "2021-12-08T22:43:49.246230Z"
    },
    "papermill": {
     "duration": 1.622993,
     "end_time": "2021-12-08T22:52:21.373207",
     "exception": false,
     "start_time": "2021-12-08T22:52:19.750214",
     "status": "completed"
    },
    "tags": []
   },
   "outputs": [],
   "source": [
    "model = build_model(vocab_size = len(vocab), embedding_dim=embedding_dim, rnn_units=rnn_units, batch_size=batch_size)"
   ]
  },
  {
   "cell_type": "code",
   "execution_count": 38,
   "id": "ce6343ee",
   "metadata": {
    "execution": {
     "iopub.execute_input": "2021-12-08T22:52:21.478372Z",
     "iopub.status.busy": "2021-12-08T22:52:21.477737Z",
     "iopub.status.idle": "2021-12-08T22:52:41.123475Z",
     "shell.execute_reply": "2021-12-08T22:52:41.122874Z",
     "shell.execute_reply.started": "2021-12-08T22:43:49.886152Z"
    },
    "papermill": {
     "duration": 19.700062,
     "end_time": "2021-12-08T22:52:41.123602",
     "exception": false,
     "start_time": "2021-12-08T22:52:21.423540",
     "status": "completed"
    },
    "tags": []
   },
   "outputs": [
    {
     "name": "stdout",
     "output_type": "stream",
     "text": [
      "(64, 100, 95)\n",
      "(64, 100, 95)\n",
      "(64, 100, 95)\n",
      "(64, 100, 95)\n",
      "(64, 100, 95)\n",
      "(64, 100, 95)\n"
     ]
    }
   ],
   "source": [
    "for input_example_batch, target_example_batch in dataset.take(10):\n",
    "  example_batch_predictions = model(input_example_batch)\n",
    "  print(example_batch_predictions.shape)"
   ]
  },
  {
   "cell_type": "code",
   "execution_count": 39,
   "id": "f3545efc",
   "metadata": {
    "execution": {
     "iopub.execute_input": "2021-12-08T22:52:41.223559Z",
     "iopub.status.busy": "2021-12-08T22:52:41.222346Z",
     "iopub.status.idle": "2021-12-08T22:52:41.232522Z",
     "shell.execute_reply": "2021-12-08T22:52:41.232079Z",
     "shell.execute_reply.started": "2021-12-08T22:43:50.344293Z"
    },
    "papermill": {
     "duration": 0.060827,
     "end_time": "2021-12-08T22:52:41.232631",
     "exception": false,
     "start_time": "2021-12-08T22:52:41.171804",
     "status": "completed"
    },
    "tags": []
   },
   "outputs": [],
   "source": [
    "sampled_indices = tf.random.categorical(example_batch_predictions[0], num_samples=1)"
   ]
  },
  {
   "cell_type": "code",
   "execution_count": 40,
   "id": "c56c682c",
   "metadata": {
    "execution": {
     "iopub.execute_input": "2021-12-08T22:52:41.332285Z",
     "iopub.status.busy": "2021-12-08T22:52:41.331812Z",
     "iopub.status.idle": "2021-12-08T22:52:41.334647Z",
     "shell.execute_reply": "2021-12-08T22:52:41.335069Z",
     "shell.execute_reply.started": "2021-12-08T22:43:50.352624Z"
    },
    "papermill": {
     "duration": 0.056197,
     "end_time": "2021-12-08T22:52:41.335182",
     "exception": false,
     "start_time": "2021-12-08T22:52:41.278985",
     "status": "completed"
    },
    "tags": []
   },
   "outputs": [
    {
     "data": {
      "text/plain": [
       "<tf.Tensor: shape=(100, 1), dtype=int64, numpy=\n",
       "array([[92],\n",
       "       [43],\n",
       "       [50],\n",
       "       [78],\n",
       "       [31],\n",
       "       [ 9],\n",
       "       [41],\n",
       "       [30],\n",
       "       [41],\n",
       "       [51],\n",
       "       [ 7],\n",
       "       [23],\n",
       "       [54],\n",
       "       [75],\n",
       "       [65],\n",
       "       [82],\n",
       "       [69],\n",
       "       [50],\n",
       "       [31],\n",
       "       [61],\n",
       "       [ 0],\n",
       "       [30],\n",
       "       [76],\n",
       "       [18],\n",
       "       [76],\n",
       "       [52],\n",
       "       [16],\n",
       "       [40],\n",
       "       [76],\n",
       "       [69],\n",
       "       [73],\n",
       "       [59],\n",
       "       [88],\n",
       "       [78],\n",
       "       [17],\n",
       "       [68],\n",
       "       [41],\n",
       "       [87],\n",
       "       [ 1],\n",
       "       [ 0],\n",
       "       [58],\n",
       "       [49],\n",
       "       [93],\n",
       "       [32],\n",
       "       [94],\n",
       "       [34],\n",
       "       [44],\n",
       "       [63],\n",
       "       [89],\n",
       "       [12],\n",
       "       [41],\n",
       "       [69],\n",
       "       [86],\n",
       "       [61],\n",
       "       [50],\n",
       "       [19],\n",
       "       [73],\n",
       "       [17],\n",
       "       [20],\n",
       "       [52],\n",
       "       [ 7],\n",
       "       [31],\n",
       "       [ 3],\n",
       "       [30],\n",
       "       [58],\n",
       "       [ 3],\n",
       "       [67],\n",
       "       [68],\n",
       "       [75],\n",
       "       [60],\n",
       "       [ 2],\n",
       "       [78],\n",
       "       [75],\n",
       "       [92],\n",
       "       [74],\n",
       "       [65],\n",
       "       [74],\n",
       "       [28],\n",
       "       [86],\n",
       "       [52],\n",
       "       [21],\n",
       "       [14],\n",
       "       [28],\n",
       "       [78],\n",
       "       [38],\n",
       "       [32],\n",
       "       [93],\n",
       "       [79],\n",
       "       [57],\n",
       "       [33],\n",
       "       [61],\n",
       "       [54],\n",
       "       [80],\n",
       "       [48],\n",
       "       [87],\n",
       "       [14],\n",
       "       [45],\n",
       "       [80],\n",
       "       [63],\n",
       "       [ 9]])>"
      ]
     },
     "execution_count": 40,
     "metadata": {},
     "output_type": "execute_result"
    }
   ],
   "source": [
    "sampled_indices"
   ]
  },
  {
   "cell_type": "code",
   "execution_count": 41,
   "id": "285ade30",
   "metadata": {
    "execution": {
     "iopub.execute_input": "2021-12-08T22:52:41.431147Z",
     "iopub.status.busy": "2021-12-08T22:52:41.430684Z",
     "iopub.status.idle": "2021-12-08T22:52:41.435994Z",
     "shell.execute_reply": "2021-12-08T22:52:41.436439Z",
     "shell.execute_reply.started": "2021-12-08T22:43:50.390825Z"
    },
    "papermill": {
     "duration": 0.054789,
     "end_time": "2021-12-08T22:52:41.436609",
     "exception": false,
     "start_time": "2021-12-08T22:52:41.381820",
     "status": "completed"
    },
    "tags": []
   },
   "outputs": [],
   "source": [
    "sampled_indices = tf.squeeze(sampled_indices, axis = -1).numpy()"
   ]
  },
  {
   "cell_type": "code",
   "execution_count": 42,
   "id": "22b68b0a",
   "metadata": {
    "execution": {
     "iopub.execute_input": "2021-12-08T22:52:41.535896Z",
     "iopub.status.busy": "2021-12-08T22:52:41.535354Z",
     "iopub.status.idle": "2021-12-08T22:52:41.543494Z",
     "shell.execute_reply": "2021-12-08T22:52:41.543070Z",
     "shell.execute_reply.started": "2021-12-08T22:43:50.397361Z"
    },
    "papermill": {
     "duration": 0.058688,
     "end_time": "2021-12-08T22:52:41.543613",
     "exception": false,
     "start_time": "2021-12-08T22:52:41.484925",
     "status": "completed"
    },
    "tags": []
   },
   "outputs": [
    {
     "data": {
      "text/plain": [
       "array([92, 43, 50, 78, 31,  9, 41, 30, 41, 51,  7, 23, 54, 75, 65, 82, 69,\n",
       "       50, 31, 61,  0, 30, 76, 18, 76, 52, 16, 40, 76, 69, 73, 59, 88, 78,\n",
       "       17, 68, 41, 87,  1,  0, 58, 49, 93, 32, 94, 34, 44, 63, 89, 12, 41,\n",
       "       69, 86, 61, 50, 19, 73, 17, 20, 52,  7, 31,  3, 30, 58,  3, 67, 68,\n",
       "       75, 60,  2, 78, 75, 92, 74, 65, 74, 28, 86, 52, 21, 14, 28, 78, 38,\n",
       "       32, 93, 79, 57, 33, 61, 54, 80, 48, 87, 14, 45, 80, 63,  9])"
      ]
     },
     "execution_count": 42,
     "metadata": {},
     "output_type": "execute_result"
    }
   ],
   "source": [
    "sampled_indices"
   ]
  },
  {
   "cell_type": "code",
   "execution_count": 43,
   "id": "1c369d49",
   "metadata": {
    "execution": {
     "iopub.execute_input": "2021-12-08T22:52:41.643342Z",
     "iopub.status.busy": "2021-12-08T22:52:41.642683Z",
     "iopub.status.idle": "2021-12-08T22:52:41.651030Z",
     "shell.execute_reply": "2021-12-08T22:52:41.651542Z",
     "shell.execute_reply.started": "2021-12-08T22:43:50.407232Z"
    },
    "papermill": {
     "duration": 0.060794,
     "end_time": "2021-12-08T22:52:41.651716",
     "exception": false,
     "start_time": "2021-12-08T22:52:41.590922",
     "status": "completed"
    },
    "tags": []
   },
   "outputs": [
    {
     "name": "stdout",
     "output_type": "stream",
     "text": [
      "Input: \n",
      " ' esses dez ou doze que lá estavam, acenaram-lhes que fizessem o mesmo; e logo foram todos beijá-la.\\n'\n",
      "\n",
      "Next char predictions: \n",
      " 'üT_ÀH-RGRa*;dyoâs_Hk\\tGz6zb4QzswióÀ5rRí\\n\\th]—I↑KUmô0Rsêk_7w58b*H!Gh!qryj ÀyüxoxEêb92EÀOI—ÁgJkdà[í2Vàm-'\n"
     ]
    }
   ],
   "source": [
    "print('Input: \\n', repr(''.join(idx2char[input_example_batch[0]])))\n",
    "print()\n",
    "print('Next char predictions: \\n', repr(''.join(idx2char[sampled_indices])))"
   ]
  },
  {
   "cell_type": "markdown",
   "id": "0dc9dbaf",
   "metadata": {
    "papermill": {
     "duration": 0.073505,
     "end_time": "2021-12-08T22:52:41.800028",
     "exception": false,
     "start_time": "2021-12-08T22:52:41.726523",
     "status": "completed"
    },
    "tags": []
   },
   "source": [
    "# Model training"
   ]
  },
  {
   "cell_type": "markdown",
   "id": "ee60535e",
   "metadata": {
    "papermill": {
     "duration": 0.073983,
     "end_time": "2021-12-08T22:52:41.946940",
     "exception": false,
     "start_time": "2021-12-08T22:52:41.872957",
     "status": "completed"
    },
    "tags": []
   },
   "source": [
    "**Optimizer and loss function**"
   ]
  },
  {
   "cell_type": "code",
   "execution_count": 44,
   "id": "da0ebb05",
   "metadata": {
    "execution": {
     "iopub.execute_input": "2021-12-08T22:52:42.099783Z",
     "iopub.status.busy": "2021-12-08T22:52:42.099004Z",
     "iopub.status.idle": "2021-12-08T22:52:42.102362Z",
     "shell.execute_reply": "2021-12-08T22:52:42.102929Z",
     "shell.execute_reply.started": "2021-12-08T22:43:50.417658Z"
    },
    "papermill": {
     "duration": 0.082834,
     "end_time": "2021-12-08T22:52:42.103128",
     "exception": false,
     "start_time": "2021-12-08T22:52:42.020294",
     "status": "completed"
    },
    "tags": []
   },
   "outputs": [],
   "source": [
    "def loss(labels, logits):\n",
    "  return tf.keras.losses.sparse_categorical_crossentropy(labels, logits, from_logits=True)"
   ]
  },
  {
   "cell_type": "code",
   "execution_count": 45,
   "id": "887acbf2",
   "metadata": {
    "execution": {
     "iopub.execute_input": "2021-12-08T22:52:42.257683Z",
     "iopub.status.busy": "2021-12-08T22:52:42.256773Z",
     "iopub.status.idle": "2021-12-08T22:52:42.272234Z",
     "shell.execute_reply": "2021-12-08T22:52:42.271701Z",
     "shell.execute_reply.started": "2021-12-08T22:43:50.424106Z"
    },
    "papermill": {
     "duration": 0.094631,
     "end_time": "2021-12-08T22:52:42.272372",
     "exception": false,
     "start_time": "2021-12-08T22:52:42.177741",
     "status": "completed"
    },
    "tags": []
   },
   "outputs": [],
   "source": [
    "example_batch_loss = loss(target_example_batch, example_batch_predictions)"
   ]
  },
  {
   "cell_type": "code",
   "execution_count": 46,
   "id": "f4dd65fc",
   "metadata": {
    "execution": {
     "iopub.execute_input": "2021-12-08T22:52:42.425748Z",
     "iopub.status.busy": "2021-12-08T22:52:42.422688Z",
     "iopub.status.idle": "2021-12-08T22:52:42.430589Z",
     "shell.execute_reply": "2021-12-08T22:52:42.431093Z",
     "shell.execute_reply.started": "2021-12-08T22:43:50.436736Z"
    },
    "papermill": {
     "duration": 0.085465,
     "end_time": "2021-12-08T22:52:42.431250",
     "exception": false,
     "start_time": "2021-12-08T22:52:42.345785",
     "status": "completed"
    },
    "tags": []
   },
   "outputs": [
    {
     "data": {
      "text/plain": [
       "4.5543966"
      ]
     },
     "execution_count": 46,
     "metadata": {},
     "output_type": "execute_result"
    }
   ],
   "source": [
    "example_batch_loss.numpy().mean()"
   ]
  },
  {
   "cell_type": "code",
   "execution_count": 47,
   "id": "f9092cdf",
   "metadata": {
    "execution": {
     "iopub.execute_input": "2021-12-08T22:52:42.590971Z",
     "iopub.status.busy": "2021-12-08T22:52:42.590099Z",
     "iopub.status.idle": "2021-12-08T22:52:42.596264Z",
     "shell.execute_reply": "2021-12-08T22:52:42.596800Z",
     "shell.execute_reply.started": "2021-12-08T22:43:50.445619Z"
    },
    "papermill": {
     "duration": 0.091705,
     "end_time": "2021-12-08T22:52:42.596962",
     "exception": false,
     "start_time": "2021-12-08T22:52:42.505257",
     "status": "completed"
    },
    "tags": []
   },
   "outputs": [],
   "source": [
    "model.compile(optimizer='Adam', loss=loss)"
   ]
  },
  {
   "cell_type": "markdown",
   "id": "d45aaee5",
   "metadata": {
    "papermill": {
     "duration": 0.073404,
     "end_time": "2021-12-08T22:52:42.743742",
     "exception": false,
     "start_time": "2021-12-08T22:52:42.670338",
     "status": "completed"
    },
    "tags": []
   },
   "source": [
    "# Execution of training"
   ]
  },
  {
   "cell_type": "code",
   "execution_count": 48,
   "id": "c4fe5ac8",
   "metadata": {
    "execution": {
     "iopub.execute_input": "2021-12-08T22:52:42.894889Z",
     "iopub.status.busy": "2021-12-08T22:52:42.894070Z",
     "iopub.status.idle": "2021-12-08T22:52:42.898691Z",
     "shell.execute_reply": "2021-12-08T22:52:42.899215Z",
     "shell.execute_reply.started": "2021-12-08T22:43:50.458914Z"
    },
    "papermill": {
     "duration": 0.082425,
     "end_time": "2021-12-08T22:52:42.899636",
     "exception": false,
     "start_time": "2021-12-08T22:52:42.817211",
     "status": "completed"
    },
    "tags": []
   },
   "outputs": [],
   "source": [
    "checkpoint_dir = './training_checkpoints'\n",
    "checkpoint_prefix = os.path.join(checkpoint_dir, 'ckpt_{epoch}')\n",
    "checkpoint_callback = tf.keras.callbacks.ModelCheckpoint(filepath=checkpoint_prefix, save_weights_only=True)"
   ]
  },
  {
   "cell_type": "code",
   "execution_count": 49,
   "id": "a0ac1477",
   "metadata": {
    "execution": {
     "iopub.execute_input": "2021-12-08T22:52:43.050911Z",
     "iopub.status.busy": "2021-12-08T22:52:43.050024Z",
     "iopub.status.idle": "2021-12-09T00:20:45.531189Z",
     "shell.execute_reply": "2021-12-09T00:20:45.531664Z",
     "shell.execute_reply.started": "2021-12-08T22:43:50.465692Z"
    },
    "papermill": {
     "duration": 5282.557794,
     "end_time": "2021-12-09T00:20:45.531871",
     "exception": false,
     "start_time": "2021-12-08T22:52:42.974077",
     "status": "completed"
    },
    "tags": []
   },
   "outputs": [
    {
     "name": "stdout",
     "output_type": "stream",
     "text": [
      "Epoch 1/75\n",
      "6/6 [==============================] - 73s 11s/step - loss: 4.1114\n",
      "Epoch 2/75\n",
      "6/6 [==============================] - 68s 11s/step - loss: 3.1402\n",
      "Epoch 3/75\n",
      "6/6 [==============================] - 68s 11s/step - loss: 3.0437\n",
      "Epoch 4/75\n",
      "6/6 [==============================] - 67s 11s/step - loss: 3.0340\n",
      "Epoch 5/75\n",
      "6/6 [==============================] - 68s 11s/step - loss: 3.0167\n",
      "Epoch 6/75\n",
      "6/6 [==============================] - 68s 11s/step - loss: 3.0053\n",
      "Epoch 7/75\n",
      "6/6 [==============================] - 70s 11s/step - loss: 2.9996\n",
      "Epoch 8/75\n",
      "6/6 [==============================] - 68s 11s/step - loss: 2.9925\n",
      "Epoch 9/75\n",
      "6/6 [==============================] - 68s 11s/step - loss: 2.9704\n",
      "Epoch 10/75\n",
      "6/6 [==============================] - 68s 11s/step - loss: 2.9295\n",
      "Epoch 11/75\n",
      "6/6 [==============================] - 68s 11s/step - loss: 2.8778\n",
      "Epoch 12/75\n",
      "6/6 [==============================] - 68s 11s/step - loss: 2.7832\n",
      "Epoch 13/75\n",
      "6/6 [==============================] - 69s 11s/step - loss: 2.7037\n",
      "Epoch 14/75\n",
      "6/6 [==============================] - 69s 11s/step - loss: 2.6490\n",
      "Epoch 15/75\n",
      "6/6 [==============================] - 69s 11s/step - loss: 2.5756\n",
      "Epoch 16/75\n",
      "6/6 [==============================] - 69s 11s/step - loss: 2.5214\n",
      "Epoch 17/75\n",
      "6/6 [==============================] - 69s 11s/step - loss: 2.4600\n",
      "Epoch 18/75\n",
      "6/6 [==============================] - 68s 11s/step - loss: 2.3873\n",
      "Epoch 19/75\n",
      "6/6 [==============================] - 68s 11s/step - loss: 2.3247\n",
      "Epoch 20/75\n",
      "6/6 [==============================] - 68s 11s/step - loss: 2.2699\n",
      "Epoch 21/75\n",
      "6/6 [==============================] - 68s 11s/step - loss: 2.2199\n",
      "Epoch 22/75\n",
      "6/6 [==============================] - 69s 11s/step - loss: 2.1745\n",
      "Epoch 23/75\n",
      "6/6 [==============================] - 68s 11s/step - loss: 2.1127\n",
      "Epoch 24/75\n",
      "6/6 [==============================] - 71s 12s/step - loss: 2.0760\n",
      "Epoch 25/75\n",
      "6/6 [==============================] - 69s 11s/step - loss: 2.0447\n",
      "Epoch 26/75\n",
      "6/6 [==============================] - 68s 11s/step - loss: 2.0078\n",
      "Epoch 27/75\n",
      "6/6 [==============================] - 68s 11s/step - loss: 1.9791\n",
      "Epoch 28/75\n",
      "6/6 [==============================] - 69s 11s/step - loss: 1.9304\n",
      "Epoch 29/75\n",
      "6/6 [==============================] - 69s 11s/step - loss: 1.9006\n",
      "Epoch 30/75\n",
      "6/6 [==============================] - 68s 11s/step - loss: 1.8650\n",
      "Epoch 31/75\n",
      "6/6 [==============================] - 68s 11s/step - loss: 1.8298\n",
      "Epoch 32/75\n",
      "6/6 [==============================] - 70s 12s/step - loss: 1.7960\n",
      "Epoch 33/75\n",
      "6/6 [==============================] - 68s 11s/step - loss: 1.7690\n",
      "Epoch 34/75\n",
      "6/6 [==============================] - 68s 11s/step - loss: 1.7173\n",
      "Epoch 35/75\n",
      "6/6 [==============================] - 68s 11s/step - loss: 1.6824\n",
      "Epoch 36/75\n",
      "6/6 [==============================] - 68s 11s/step - loss: 1.6596\n",
      "Epoch 37/75\n",
      "6/6 [==============================] - 68s 11s/step - loss: 1.6143\n",
      "Epoch 38/75\n",
      "6/6 [==============================] - 69s 11s/step - loss: 1.5758\n",
      "Epoch 39/75\n",
      "6/6 [==============================] - 68s 11s/step - loss: 1.5450\n",
      "Epoch 40/75\n",
      "6/6 [==============================] - 68s 11s/step - loss: 1.4971\n",
      "Epoch 41/75\n",
      "6/6 [==============================] - 69s 12s/step - loss: 1.4452\n",
      "Epoch 42/75\n",
      "6/6 [==============================] - 68s 11s/step - loss: 1.4063\n",
      "Epoch 43/75\n",
      "6/6 [==============================] - 68s 11s/step - loss: 1.3695\n",
      "Epoch 44/75\n",
      "6/6 [==============================] - 68s 11s/step - loss: 1.3211\n",
      "Epoch 45/75\n",
      "6/6 [==============================] - 68s 11s/step - loss: 1.2611\n",
      "Epoch 46/75\n",
      "6/6 [==============================] - 68s 11s/step - loss: 1.1996\n",
      "Epoch 47/75\n",
      "6/6 [==============================] - 68s 11s/step - loss: 1.1427\n",
      "Epoch 48/75\n",
      "6/6 [==============================] - 68s 11s/step - loss: 1.1061\n",
      "Epoch 49/75\n",
      "6/6 [==============================] - 68s 11s/step - loss: 1.0424\n",
      "Epoch 50/75\n",
      "6/6 [==============================] - 72s 12s/step - loss: 0.9835\n",
      "Epoch 51/75\n",
      "6/6 [==============================] - 68s 11s/step - loss: 0.9170\n",
      "Epoch 52/75\n",
      "6/6 [==============================] - 68s 11s/step - loss: 0.8570\n",
      "Epoch 53/75\n",
      "6/6 [==============================] - 68s 11s/step - loss: 0.7947\n",
      "Epoch 54/75\n",
      "6/6 [==============================] - 68s 11s/step - loss: 0.7823\n",
      "Epoch 55/75\n",
      "6/6 [==============================] - 68s 11s/step - loss: 0.7092\n",
      "Epoch 56/75\n",
      "6/6 [==============================] - 68s 11s/step - loss: 0.6399\n",
      "Epoch 57/75\n",
      "6/6 [==============================] - 68s 11s/step - loss: 0.5810\n",
      "Epoch 58/75\n",
      "6/6 [==============================] - 70s 12s/step - loss: 0.5346\n",
      "Epoch 59/75\n",
      "6/6 [==============================] - 69s 11s/step - loss: 0.4854\n",
      "Epoch 60/75\n",
      "6/6 [==============================] - 68s 11s/step - loss: 0.4449\n",
      "Epoch 61/75\n",
      "6/6 [==============================] - 68s 11s/step - loss: 0.4055\n",
      "Epoch 62/75\n",
      "6/6 [==============================] - 68s 11s/step - loss: 0.3716\n",
      "Epoch 63/75\n",
      "6/6 [==============================] - 68s 11s/step - loss: 0.3398\n",
      "Epoch 64/75\n",
      "6/6 [==============================] - 68s 11s/step - loss: 0.3177\n",
      "Epoch 65/75\n",
      "6/6 [==============================] - 68s 11s/step - loss: 0.3044\n",
      "Epoch 66/75\n",
      "6/6 [==============================] - 68s 11s/step - loss: 0.2838\n",
      "Epoch 67/75\n",
      "6/6 [==============================] - 69s 12s/step - loss: 0.2691\n",
      "Epoch 68/75\n",
      "6/6 [==============================] - 68s 11s/step - loss: 0.2594\n",
      "Epoch 69/75\n",
      "6/6 [==============================] - 69s 11s/step - loss: 0.2471\n",
      "Epoch 70/75\n",
      "6/6 [==============================] - 68s 11s/step - loss: 0.2381\n",
      "Epoch 71/75\n",
      "6/6 [==============================] - 68s 11s/step - loss: 0.2269\n",
      "Epoch 72/75\n",
      "6/6 [==============================] - 68s 11s/step - loss: 0.2230\n",
      "Epoch 73/75\n",
      "6/6 [==============================] - 68s 11s/step - loss: 0.2139\n",
      "Epoch 74/75\n",
      "6/6 [==============================] - 68s 11s/step - loss: 0.2083\n",
      "Epoch 75/75\n",
      "6/6 [==============================] - 68s 11s/step - loss: 0.2086\n"
     ]
    }
   ],
   "source": [
    "epochs = 75\n",
    "history = model.fit(dataset, epochs = epochs, callbacks=[checkpoint_callback])"
   ]
  },
  {
   "cell_type": "markdown",
   "id": "34730715",
   "metadata": {
    "papermill": {
     "duration": 0.220078,
     "end_time": "2021-12-09T00:20:45.951714",
     "exception": false,
     "start_time": "2021-12-09T00:20:45.731636",
     "status": "completed"
    },
    "tags": []
   },
   "source": [
    "# Text Generation"
   ]
  },
  {
   "cell_type": "markdown",
   "id": "52be558d",
   "metadata": {
    "papermill": {
     "duration": 0.188726,
     "end_time": "2021-12-09T00:20:46.340426",
     "exception": false,
     "start_time": "2021-12-09T00:20:46.151700",
     "status": "completed"
    },
    "tags": []
   },
   "source": [
    "Restore last checkpoint"
   ]
  },
  {
   "cell_type": "code",
   "execution_count": 50,
   "id": "b979f43e",
   "metadata": {
    "execution": {
     "iopub.execute_input": "2021-12-09T00:20:46.733510Z",
     "iopub.status.busy": "2021-12-09T00:20:46.732991Z",
     "iopub.status.idle": "2021-12-09T00:20:46.743258Z",
     "shell.execute_reply": "2021-12-09T00:20:46.742668Z",
     "shell.execute_reply.started": "2021-12-08T22:43:54.617681Z"
    },
    "papermill": {
     "duration": 0.208467,
     "end_time": "2021-12-09T00:20:46.743401",
     "exception": false,
     "start_time": "2021-12-09T00:20:46.534934",
     "status": "completed"
    },
    "tags": []
   },
   "outputs": [
    {
     "data": {
      "text/plain": [
       "'./training_checkpoints/ckpt_75'"
      ]
     },
     "execution_count": 50,
     "metadata": {},
     "output_type": "execute_result"
    }
   ],
   "source": [
    "tf.train.latest_checkpoint(checkpoint_dir)"
   ]
  },
  {
   "cell_type": "code",
   "execution_count": 51,
   "id": "84605244",
   "metadata": {
    "execution": {
     "iopub.execute_input": "2021-12-09T00:20:47.220221Z",
     "iopub.status.busy": "2021-12-09T00:20:47.219749Z",
     "iopub.status.idle": "2021-12-09T00:20:48.088159Z",
     "shell.execute_reply": "2021-12-09T00:20:48.088577Z",
     "shell.execute_reply.started": "2021-12-08T22:43:54.619747Z"
    },
    "papermill": {
     "duration": 1.067807,
     "end_time": "2021-12-09T00:20:48.088739",
     "exception": false,
     "start_time": "2021-12-09T00:20:47.020932",
     "status": "completed"
    },
    "tags": []
   },
   "outputs": [],
   "source": [
    "model = build_model(vocab_size, embedding_dim, rnn_units, batch_size = 1)\n",
    "model.load_weights(tf.train.latest_checkpoint(checkpoint_dir))\n",
    "model.build(tf.TensorShape([1, None]))"
   ]
  },
  {
   "cell_type": "code",
   "execution_count": 52,
   "id": "6bbd2123",
   "metadata": {
    "execution": {
     "iopub.execute_input": "2021-12-09T00:20:48.480199Z",
     "iopub.status.busy": "2021-12-09T00:20:48.479504Z",
     "iopub.status.idle": "2021-12-09T00:20:48.485898Z",
     "shell.execute_reply": "2021-12-09T00:20:48.485135Z",
     "shell.execute_reply.started": "2021-12-08T22:43:54.621681Z"
    },
    "papermill": {
     "duration": 0.205864,
     "end_time": "2021-12-09T00:20:48.486005",
     "exception": false,
     "start_time": "2021-12-09T00:20:48.280141",
     "status": "completed"
    },
    "tags": []
   },
   "outputs": [
    {
     "name": "stdout",
     "output_type": "stream",
     "text": [
      "Model: \"sequential_1\"\n",
      "_________________________________________________________________\n",
      "Layer (type)                 Output Shape              Param #   \n",
      "=================================================================\n",
      "embedding_1 (Embedding)      (1, None, 256)            24320     \n",
      "_________________________________________________________________\n",
      "lstm_3 (LSTM)                (1, None, 1024)           5246976   \n",
      "_________________________________________________________________\n",
      "lstm_4 (LSTM)                (1, None, 1024)           8392704   \n",
      "_________________________________________________________________\n",
      "lstm_5 (LSTM)                (1, None, 1024)           8392704   \n",
      "_________________________________________________________________\n",
      "dense_1 (Dense)              (1, None, 95)             97375     \n",
      "=================================================================\n",
      "Total params: 22,154,079\n",
      "Trainable params: 22,154,079\n",
      "Non-trainable params: 0\n",
      "_________________________________________________________________\n"
     ]
    }
   ],
   "source": [
    "model.summary()"
   ]
  },
  {
   "cell_type": "markdown",
   "id": "c883ca1f",
   "metadata": {
    "papermill": {
     "duration": 0.197174,
     "end_time": "2021-12-09T00:20:48.872545",
     "exception": false,
     "start_time": "2021-12-09T00:20:48.675371",
     "status": "completed"
    },
    "tags": []
   },
   "source": [
    "# Prediction Loop"
   ]
  },
  {
   "cell_type": "code",
   "execution_count": 53,
   "id": "6ff8ce11",
   "metadata": {
    "execution": {
     "iopub.execute_input": "2021-12-09T00:20:49.270765Z",
     "iopub.status.busy": "2021-12-09T00:20:49.270225Z",
     "iopub.status.idle": "2021-12-09T00:20:49.277290Z",
     "shell.execute_reply": "2021-12-09T00:20:49.277713Z",
     "shell.execute_reply.started": "2021-12-08T22:43:54.623640Z"
    },
    "papermill": {
     "duration": 0.206276,
     "end_time": "2021-12-09T00:20:49.277854",
     "exception": false,
     "start_time": "2021-12-09T00:20:49.071578",
     "status": "completed"
    },
    "tags": []
   },
   "outputs": [],
   "source": [
    "def generate_text(model, start_string):\n",
    "  \n",
    "  num_generate = 1000\n",
    "\n",
    "  \n",
    "  input_eval = [char2idx[s] for s in start_string]\n",
    "  input_eval = tf.expand_dims(input_eval, 0)\n",
    "  \n",
    "  text_generated = []\n",
    "   \n",
    "  temperature = 1.0\n",
    "\n",
    "  \n",
    "  for i in range(num_generate):\n",
    "    \n",
    "    predictions = model(input_eval)\n",
    "\n",
    "    \n",
    "    predictions = tf.squeeze(predictions, 0)\n",
    "    predictions = predictions / temperature\n",
    "    predicted_id = tf.random.categorical(predictions, num_samples=1)[-1,0].numpy()\n",
    "\n",
    "    \n",
    "    input_eval = tf.expand_dims([predicted_id], 0)\n",
    "\n",
    "    text_generated.append(idx2char[predicted_id])\n",
    "  \n",
    "  return (start_string + ''.join(text_generated))"
   ]
  },
  {
   "cell_type": "code",
   "execution_count": 54,
   "id": "652cdcfb",
   "metadata": {
    "execution": {
     "iopub.execute_input": "2021-12-09T00:20:49.672207Z",
     "iopub.status.busy": "2021-12-09T00:20:49.669917Z",
     "iopub.status.idle": "2021-12-09T00:21:21.911359Z",
     "shell.execute_reply": "2021-12-09T00:21:21.911913Z",
     "shell.execute_reply.started": "2021-12-08T22:43:54.625591Z"
    },
    "papermill": {
     "duration": 32.438197,
     "end_time": "2021-12-09T00:21:21.912102",
     "exception": false,
     "start_time": "2021-12-09T00:20:49.473905",
     "status": "completed"
    },
    "tags": []
   },
   "outputs": [
    {
     "name": "stdout",
     "output_type": "stream",
     "text": [
      "Pedro Vaz : deu baleira nos mui bem vinte az tro. Mas ninguém os ele, neve, lençamos vir. eles scansermino que não dei aquelesquifer uma madir àu catico amuelo o rioto contrazia segua nos homem vivo de Mira Ilhé, que Vosse lá um saa vhe grande e tuntiraram-lo que estavá como em cima da praia, um qsande com vimo. Nómos tajo, mais e beixo jizeno tem navios neveus que telham carcaçges e muito graços, que es naus setentidas, a saber e se faciam e folgar mais que querea bajeira som pader e melhor e bola, o Alguns barris que nós os forámos come mado o Capitão para baixo para a boca do rio, ontres sessenta de um avada de seu viver e maneiras. E a Vavia de medo dedo qualim ali falar a outros, que nós leváviamos de dar! E depois tornou as contas a que lá firíamos de naute, a dormir. E esquifeza feiçade bom eles para andermoteltas de ria. E chegaram-se logo outras queisqAeler que que nos lávamos, a fonde em grande jazentos e que de modo algum viessem a dormir às naus, ainque nos que viam fázam. Contuda e Ve\n"
     ]
    }
   ],
   "source": [
    "print(generate_text(model, start_string='Pedro Vaz : '))"
   ]
  },
  {
   "cell_type": "markdown",
   "id": "a95c53b7",
   "metadata": {
    "papermill": {
     "duration": 0.194697,
     "end_time": "2021-12-09T00:21:22.301202",
     "exception": false,
     "start_time": "2021-12-09T00:21:22.106505",
     "status": "completed"
    },
    "tags": []
   },
   "source": [
    "Essa é a carta completa de pedro Vaz de Caminha de quando avistou a costa do Brasil.\n",
    "\n",
    "Neste trabalho foi utilizado as redes neurais recorrentes.\n",
    "\n",
    "Se for realizado um tratamento com Stop Words ficará ainda melhor, mas eu não utilizei aqui.\n",
    "\n",
    "No começo era apenas uma camada da rede neural eu aumentei ela em mais cinco camada, mas o notebook começou a travar então mantive apenas duas.\n",
    "\n",
    "Para melhorar, poderia ser feitoi o tratamento com as stop words, aumentar as camadas da rede neural e o número de epócas, mas vai exigir uma máquina um pouco mais forte.\n",
    "\n",
    "Obrigado!"
   ]
  },
  {
   "cell_type": "markdown",
   "id": "75a19a30",
   "metadata": {
    "papermill": {
     "duration": 0.192108,
     "end_time": "2021-12-09T00:21:22.687285",
     "exception": false,
     "start_time": "2021-12-09T00:21:22.495177",
     "status": "completed"
    },
    "tags": []
   },
   "source": [
    "This is the complete letter from Pedro Vaz de Caminha when he sighted the coast of Brazil.\n",
    "\n",
    "In this work, recurrent neural networks were used.\n",
    "\n",
    "If a treatment with Stop Words is performed, it will be even better, but I didn't use it here.\n",
    "\n",
    "In the beginning it was just one layer of the neural network I increased it by five more layers, but the notebook started to crash so I kept only two.\n",
    "\n",
    "To improve, it could be done the treatment with stop words, increasing the layers of the neural network and the number of epochs, but it will require a machine a little stronger.\n",
    "\n",
    "Thanks!"
   ]
  },
  {
   "cell_type": "markdown",
   "id": "02229976",
   "metadata": {
    "papermill": {
     "duration": 0.195266,
     "end_time": "2021-12-09T00:21:23.077183",
     "exception": false,
     "start_time": "2021-12-09T00:21:22.881917",
     "status": "completed"
    },
    "tags": []
   },
   "source": [
    "# **If you find this notebook useful, support with an upvote** 👍"
   ]
  }
 ],
 "metadata": {
  "kernelspec": {
   "display_name": "Python 3",
   "language": "python",
   "name": "python3"
  },
  "language_info": {
   "codemirror_mode": {
    "name": "ipython",
    "version": 3
   },
   "file_extension": ".py",
   "mimetype": "text/x-python",
   "name": "python",
   "nbconvert_exporter": "python",
   "pygments_lexer": "ipython3",
   "version": "3.7.12"
  },
  "papermill": {
   "default_parameters": {},
   "duration": 5363.669391,
   "end_time": "2021-12-09T00:21:26.041946",
   "environment_variables": {},
   "exception": null,
   "input_path": "__notebook__.ipynb",
   "output_path": "__notebook__.ipynb",
   "parameters": {},
   "start_time": "2021-12-08T22:52:02.372555",
   "version": "2.3.3"
  }
 },
 "nbformat": 4,
 "nbformat_minor": 5
}
